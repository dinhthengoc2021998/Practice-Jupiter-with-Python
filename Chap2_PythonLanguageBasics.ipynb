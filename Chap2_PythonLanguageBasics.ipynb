{
 "cells": [
  {
   "cell_type": "code",
   "execution_count": 2,
   "metadata": {},
   "outputs": [],
   "source": [
    "import IPython\n",
    "import numpy as np\n",
    "import matplotlib.pyplot as plt\n",
    "from datetime import datetime,date,time"
   ]
  },
  {
   "cell_type": "code",
   "execution_count": 4,
   "metadata": {},
   "outputs": [
    {
     "name": "stdout",
     "output_type": "stream",
     "text": [
      "Positive\n"
     ]
    },
    {
     "data": {
      "text/plain": [
       "'Negative'"
      ]
     },
     "execution_count": 4,
     "metadata": {},
     "output_type": "execute_result"
    }
   ],
   "source": [
    "# runCommand #%run testForRuncommand.ipynb\n",
    "#check the time execution #timeit\n",
    "#%debug\n",
    "#--------------------------------------------------------------------------\n",
    "#plt.plot(np.random.randn(50).cumsum())\n",
    "#a=4.5;b='dinhthengoc';print('a is {0},b is {1}'.format(type(a),type(b)))\n",
    "#isinstance(a,str) OR isinstance(a,(str,int,float))\n",
    "#--------------------------------------------------------------------------\n",
    "#Iterable is the instance's sequence of object. Most commonly use for loop,while loop,etc\n",
    "def isiterable(x):\n",
    "    try:\n",
    "        iter(x)\n",
    "        return True\n",
    "    except TypeError:\n",
    "        return False\n",
    "    #The function to check the object of input and convert it to some type as (list,tuple,ndarray)\n",
    "    if not isinstance(x,list) and isiterable(x):\n",
    "        x=list(X)\n",
    "#---------------------------------------------------------------------------------            \n",
    "#Import the module of file from the same directory: Import **.py; From**.py import ** as *;\n",
    "#-------------------------------------------------------------------------\n",
    "#Some important operation: (&);(|) is OR or Both;(^) is EXCLUSIVE_OR,(//) is take the fractional remainder.\n",
    "#----------------------------------------------------------------------------\n",
    "#String is immutable so if want to change the content we need to creat a new object by replacing some character in this.\n",
    "a='dinh the ngoc'\n",
    "b=a.replace('ngoc','thach')\n",
    "#String is a sequence of character so this type is iterable and it's unique\n",
    "list(a)\n",
    "#We can see the raw of the result that have so many backslashs or some special character by use 'r' before the result\n",
    "#IMPORTANT: Use string templating with 'format'\n",
    "templating=\"My name is {0:s},now i'm {1:d} and my point at university is {2:.2f}\"\n",
    "templating.format('Ngoc',20,3.35)\n",
    "#----------------------------------------------------------------------------\n",
    "#Bytes and Unicode:'latin1','utf-16','utf-16le'\n",
    "val = \"español\"\n",
    "val_utf8=val.encode('utf-8')\n",
    "val_utf8.decode()\n",
    "#To show the binary of the data we can use the character 'b' at the first of value\n",
    "#-----------------------------------------------------------------------------\n",
    "#DATE AND TIMES\n",
    "dt=datetime(2018,7,10,4,3,30) #set up the year,month,day,hour,minute,second\n",
    "dt.date(),dt.time()# call the tuple of date and time \n",
    "dt.day,dt.month,dt.year,dt.second,dt.minute,dt.hour# call the integer of day,month,...\n",
    "#String and datetime can be converted each other\n",
    "dt.strftime('%d-%m-%Y  %H:%M:%S')\n",
    "datetime.strptime('2018-7-10 4:3:30','%Y-%m-%d %H:%M:%S')\n",
    "dt.replace(year=2019,minute=22)# datetime is immutable so this'll creat a new object\n",
    "#Computation with the datetime object\n",
    "dt2=datetime(2018,12,31,12,0,0)\n",
    "delta1=dt2-dt\n",
    "delta1 # is respresent (day,second) because compute the year/month/day will convert to the day and th>e hour/minue/second is converted to second\n",
    "#type(delta1) is datetime.timedelta\n",
    "#Some type of datetime is important: \n",
    "#(%H) is 24hours and(%I) is 12hours,\n",
    "#(%Y) is 4-digit year and (%y) is 2-last-digit,\n",
    "#(%w) is weekday[0,6] and (%W) is week of year[00,53],\n",
    "#(%z) is time zone with +HHMM or -HHMM\n",
    "#------------------------------------------------------------------------------------\n",
    "#CONTROL FLOW with the conditional, loop\n",
    "#IF-ELIF-ELSE: it the first conditional is true, then no more the condition can be considered.\n",
    "#IF-ELIF should be carefull because it can be 2 condition can be TRUE but it just to consider the first True conditional.=> Can use the 2 IF Statement can consider 2 condition\n",
    "#For loop: CONTINUE to skip the remainder block, and BREAK can use to escape the loop\n",
    "number=[1,2,None,'string',3,5,10,10]\n",
    "total=0\n",
    "for i in number:\n",
    "    if i==None:\n",
    "        continue\n",
    "    elif type(i)!=type(int()):\n",
    "        continue\n",
    "    if i==number[len(number)-1]:\n",
    "        break  #break the innermost for loop.If there 2 for loop, break in IF-statement 'll only break this inner FOR loop'\n",
    "    total=total+i\n",
    "total\n",
    "#PASS is the 'no-op','no-action', just as a placeholder for code to write smth\n",
    "x=5\n",
    "if x<0:\n",
    "    print('Negative')\n",
    "elif x==0:\n",
    "    pass  #Put something in this to do or pass without action when x=0\n",
    "else:\n",
    "    print('Positive')\n",
    "#TERNARY EXPRESSION\n",
    "'Negative' if x>0 else 'Non-negative!' #use for short with one If-Else statement that can be executed.\n"
   ]
  }
 ],
 "metadata": {
  "kernelspec": {
   "display_name": "Python 3",
   "language": "python",
   "name": "python3"
  },
  "language_info": {
   "codemirror_mode": {
    "name": "ipython",
    "version": 3
   },
   "file_extension": ".py",
   "mimetype": "text/x-python",
   "name": "python",
   "nbconvert_exporter": "python",
   "pygments_lexer": "ipython3",
   "version": "3.6.5"
  }
 },
 "nbformat": 4,
 "nbformat_minor": 2
}
