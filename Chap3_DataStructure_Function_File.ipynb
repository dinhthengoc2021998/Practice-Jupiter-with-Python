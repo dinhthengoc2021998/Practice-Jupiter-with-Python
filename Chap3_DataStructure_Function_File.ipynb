{
 "cells": [
  {
   "cell_type": "markdown",
   "metadata": {},
   "source": [
    "# Data structure and Sequences"
   ]
  },
  {
   "cell_type": "code",
   "execution_count": 69,
   "metadata": {},
   "outputs": [],
   "source": [
    "import os,sys,IPython,re,itertools,string\n",
    "import numpy as np\n",
    "import matplotlib.pyplot as plt\n",
    "from datetime import datetime,date,time\n",
    "from functools import partial"
   ]
  },
  {
   "cell_type": "markdown",
   "metadata": {},
   "source": [
    "# Tuple"
   ]
  },
  {
   "cell_type": "code",
   "execution_count": null,
   "metadata": {},
   "outputs": [],
   "source": [
    "#Tuple is immutable\n",
    "#Nested Tuple: Inside tuple can be list,dict,string,int,float,\n",
    "tuple1=(1,1.2,[1,None,'dinhthengoc',True],True)\n",
    "for i in range(len(tuple1)):\n",
    "    print(tuple1[i])\n",
    "#If tuple contain a mutable object like dict,list; We can access this & assign them.\n",
    "tuple1[2][2]='ngocdinhthe'# Use bracket to access element in tuple\n",
    "tuple1[2].append(3)\n",
    "#We can convert some other type other to tuple\n",
    "tuple(tuple1[2])# This list become a tuple contains string\n",
    "#UNPACK the tuple with variable\n",
    "a,b,c,d=tuple1 # unpack every element in tuple to assign this to corresponding variable\n",
    "a,b=b,a# We can use this think of unpack to swap:(a)refer object of(b) and reverse\n",
    "seq1=((1,2,3),(4,None,6),(7,8,9))\n",
    "for a,b,c in seq1:# we can iterating element in tuple with the format\n",
    "    print('{0},{1},{2}'.format(a,b,c))# Use the {number} to refer the index what the format represent\n",
    "#Use the '*rest' to refer the rest of tuple and this type is list with arbitrarily long element\n",
    "a,*ngoc=tuple1 #Group some element together to create a list\n",
    "#Count the number of element that appeared in the tuple(and count in the inside of element)\n",
    "tuple1.count(True)# result=2 means that this function'll count every deep element in tuple\n",
    "#Concatenate the 2 tuple\n",
    "tuple1+seq1\n",
    "#Tuple is unique: if 2 tuple have the same element but not the same sequence, 2 tuple refer 2 different object\n",
    "tuple2=(1.2,1,True,[1,None,'dinthengoc',True])\n",
    "bool(id(tuple1)==id(tuple2))# False"
   ]
  },
  {
   "cell_type": "markdown",
   "metadata": {},
   "source": [
    "# List"
   ]
  },
  {
   "cell_type": "code",
   "execution_count": null,
   "metadata": {},
   "outputs": [],
   "source": [
    "#List is mutable \n",
    "tup=('foo','bar','baz')\n",
    "list1=list(tup)# convert tuple to type list\n",
    "list1.insert(1,'ngoc')# insert at the first vertical position(1):['foo','ngoc','bar','baz']\n",
    "list1.remove('foo')# remove the element, if not it'll interupt because x not in list\n",
    "reverse_list=list(reversed(list1))# use (list) to convert a NoneType to List type\n",
    "bool(id(reverse_list)==id(list1))# reverse can create a new object have NoneType\n",
    "list1.pop(1)# inverse of insert is remove at the position referenced.Note that some element can change the position in the new list\n",
    "list1+reverse_list# concatenate with '+' create a new list\n",
    "list1.extend(reverse_list) # append a list,element to the end of list;\n",
    "#EXTEND  MORE USEFUL FOR LARGE NUMBER than concatenate with '+'\n",
    "list1.sort(key=len,reverse=True)# Sort by the number of character from lower to higher and reverse\n",
    "#Slicing with[:] is all,[:4] is begin to 4-vertical position,[2:] is 2 to the end,[-2:] is (-2) vertical-position to the end\n",
    "number=[2,0,2,1,9,9,8]\n",
    "number[::3]# pick up element what have position is divisible by 3\n",
    "number[::-1]# Just like reverse because it take every position divisible by (-1) as -8,-7,-6,...-2,-1"
   ]
  },
  {
   "cell_type": "markdown",
   "metadata": {},
   "source": [
    "# Built-in Sequence Function"
   ]
  },
  {
   "cell_type": "code",
   "execution_count": null,
   "metadata": {},
   "outputs": [],
   "source": [
    "#ENUMERATE: keep track of the index of the current item;return a sequence of (i,value) tuples\n",
    "listName=['ngoc','thach','son','the']\n",
    "dictionary={}\n",
    "for i,value in enumerate(listName):# count i=0 to the end of the list\n",
    "    print(i,'\\t',value.upper())\n",
    "for i,v in enumerate(listName):# Use sequence to put value in the corresponding index\n",
    "    dictionary[i]=v.upper()# give key and value of each key in the dict\n",
    "#SORTED and return the new list by the key:\n",
    "newlistName=sorted(listName,key=len,reverse=True)# just like iterable.sort(key=,reverse=)\n",
    "#ZIP is part up the element that having the same position at 2 tuple,list, or other iterable\n",
    "listHo=('Dinh','Dinh','Dinh',\"To\")\n",
    "listDem=[('The'),('The'),('The'),('Kim')]\n",
    "zip_FullName=zip(listHo,listDem,listName)# Conclusion is can zip one type to another more type as list with tuple with list_of_tuple\n",
    "list_FullName=list(zip_FullName)# return the list of tuple \n",
    "print('----------------------------------------------------')\n",
    "print('STT\\t','FullName')\n",
    "for i,(a,b,c) in enumerate(zip(listHo,listDem,listName)):# use(a,b,c) corresponding with element in (zip) function\n",
    "    print('{0}:\\t{1} {2} {3}'.format(i,a,b,c))\n",
    "for i,element in enumerate(zip_FullName):# when use zip_FullName which is type(ZIP), we only need use one variable to represent element of ZIP type \n",
    "    print('{0}\\t{1}'.format(i,element))\n",
    "Ho,Dem,Ten=zip(*list_FullName)# UNZIP the ZIP type for 3 (TUPLE) because ZIP is list of tuple\n",
    "#reversed"
   ]
  },
  {
   "cell_type": "markdown",
   "metadata": {},
   "source": [
    "# Dict,Set"
   ]
  },
  {
   "cell_type": "code",
   "execution_count": null,
   "metadata": {},
   "outputs": [],
   "source": [
    "#Dict is mutable, it's can be access,inserted,change,\n",
    "dict1={'ngoc':20,'fruit':['banana','apple',1,1.2,6.75e-1]}\n",
    "'b' in dict1 #check the key in or not in dict\n",
    "dict1['b']='back'# change or create a new key with value\n",
    "del dict1['b']# delete a dict with a key-value pair through key\n",
    "dict1.items()# show off all items\n",
    "dict1['fruit']='apple'# change the value by access the key\n",
    "dict1.pop('fruit')# remove a key-value pair\n",
    "list(dict1.keys())#convert to list of keys\n",
    "#---------------------------------------------------------\n",
    "dict2={'lib':('matplotlib','numpy','Scipy'),'python':'Ipthon'}\n",
    "dict1.update(dict2)# Concatenate value of dict2 with existed dict1\n",
    "dict2['lib']=list(dict2['lib'])# if we change value dict2, dict1 won't not be changed\n",
    "#------------------------------------------------------------\n",
    "#create a dict from sequence by using ZIP(2 tuple)\n",
    "dict3={}\n",
    "for key,value in zip(list(dict1.keys()),list(dict1.values())):\n",
    "    dict3[key]=value\n",
    "#Sorted the dictionary by the first letter as a key\n",
    "words=['atom','chain','aSUS','bottom','botAI']\n",
    "words.sort()# sort by Alphabet letter\n",
    "dict_letter={}\n",
    "for i in words:#consider every word \n",
    "    first_letter=i[0]# take the first letter of word\n",
    "    if first_letter not in dict_letter:\n",
    "        dict_letter[first_letter]=[i]# create a new key-value pair with a list value\n",
    "    else:\n",
    "        dict_letter[first_letter].append(i)# add new value into a list\n",
    "# Use setdefault to build the dictionary        \n",
    "for i in words:   \n",
    "    first_letter=i[0]\n",
    "    dict_letter.setdefault(first_letter,[]).append(i) # Set every key-value pair is{'first_letter':[]} and then'll append every word\n",
    "# The key must be immutable like scalar type or tuple(not contain mutable object)\n",
    "dict4={(1,2,'ngoc'):['apple','banana']}\n",
    "#--------------------------------------------------------------------------\n",
    "#SET is a set of unique object\n",
    "set([1,2,3,3,2,1])\n",
    "a={1,2,3,4,5,1,2,3,'ngoc',None}# element in set need to be immutable\n",
    "b={(1,2,3),4,5,10,9,8,6}\n",
    "a.union(b)# AS a|b\n",
    "a.intersection(b)# AS a&b\n",
    "a.difference(b) #as a-b\n",
    "# the '=' with other symbol like '|','-','&' means that is set a content to this set(a)\n",
    "a.update(b) # as a|=b mean set a union object to (a)\n",
    "a.issubset(b)# true if (a) is subset of (b)\n",
    "b.issuperset(a)# true if(b) is contain all of content of set(a)\n",
    "a.isdisjoint(b) # True a and b have no element common\n",
    "a.symmetric_difference(b)# return element that in (a)or(b) but not in both\n",
    "#-------------------------------------------------------------------------\n",
    "#List/Dict/Set COMPREHENSIONS: Use concisely formed to represent the for loop\n",
    "lst=[[11,22,33,44],['ngoc','thach'],'ngoc']\n",
    "[i.append('Python') for i in lst if type(i)==type([])]# use method on each element of lst with IF condition is type(i) is list\n",
    "dictionary={m:i for m,i in enumerate(lst) if type(i)==type([])} #use form {m:i}\n",
    "set1={i for i in range(10) if i>4}# use form {i}\n",
    "#Nested Comprehension\n",
    "nestLst=[[1,2,'ngoc'],['thach',2.5]]\n",
    "namelst=[]\n",
    "for m in nestLst:#consider every list element\n",
    "    extendName=[i for i in m if type(i)==type(str())]# create a list with a concisely form for loop to take name\n",
    "    namelst.extend(extendName)# extend a namelst to take a list( not a nested list)\n",
    "    #extend is to add value to list(extend more value of list) while append'll add a list to another list \n",
    "unpack_nestedLst=[x for i in nestLst for x in i]#we need to access sequentially from nested list: just like use extend.Use for create a list\n",
    "thesame_nestLst=[[x for x in i]for i in nestLst]# a list comprehension inside list comprehension: just like use append.Use for create a nested list\n"
   ]
  },
  {
   "cell_type": "markdown",
   "metadata": {},
   "source": [
    "# Functions"
   ]
  },
  {
   "cell_type": "code",
   "execution_count": 38,
   "metadata": {},
   "outputs": [
    {
     "name": "stdout",
     "output_type": "stream",
     "text": [
      "the generator is begin\n",
      "0 2 4 6 8 10 12 14 16 18 n ['ngoc', 'ngoc2']\n",
      "t ['thach', 'thach2']\n",
      "failed\n"
     ]
    }
   ],
   "source": [
    "#glossary: positional,keyword argument,Namespace,scope( global and local variable)\n",
    "def f():\n",
    " a = 5;b = 6;c = 7\n",
    " return [a,b,c]# return a list/dict/.. type\n",
    "a,b,c=f()# we can assign the return value to a variable\n",
    "#Data preprocessing( import re for regular expression)\n",
    "words= [' Alabama ', 'Georgia!', 'Georgia', 'georgia', 'FlOrIda',\n",
    "        'south carolina##', 'West virginia?']\n",
    "def cleanstring(var):\n",
    "    result=[]\n",
    "    for value in var:\n",
    "        value=value.strip()#remove any whitespace at head and trailing blank\n",
    "        value=re.sub(pattern='[#!?]',repl='',string=value)#substitute the pattern by replacement on the value\n",
    "        value=value.title()# take title word\n",
    "        result.append(value)# append to create the list with a cleaned value\n",
    "    return result\n",
    "#Create a list of function\n",
    "def remove_punctuation(string):# create a list of punctuation that need to remove\n",
    "    return re.sub(pattern='[#!?]',repl='',string=string)\n",
    "list_function=[str.strip,remove_punctuation,str.title]# create a list of function  that can add a value in this\n",
    "def clearstring(words):\n",
    "    result=[]\n",
    "    for word in words:\n",
    "        for function in list_function:\n",
    "            word=function(word)# clean a value\n",
    "        result.append(word)# add cleaned value into list\n",
    "    return result # return the list and it can assign this to a variable or can change the original variable\n",
    "#Anonymous function used by lambda with a single statement and return a value \n",
    "#Sorted the list with the length of distinct letter\n",
    "arbitrary=['aaaa','lkjoi','anna','asd']\n",
    "arbitrary.sort(key=lambda x:len(set(list(x))),reverse=True)# use lambda with (x) to return the length of distinct set of list of character of each word\n",
    "#Currying:Partial argument application\n",
    "def add_number(x,y,z):\n",
    "    return x+y*z\n",
    "add_five=partial(add_number,z=2,y=3)# add_number set for x and represent existed function, remain argument will be replaced\n",
    "add_five(5)# =add_number(5,2,3)\n",
    "#------------------------------------------------------------------------------\n",
    "#Generator means iterate value over once and generate the value on the fly but dont stored it in main:\n",
    "mygenerator=(x for x in range(1,10,2))# the variable 'mygenerator' is type(generator)\n",
    "mygenerator#By using the () instead of [] this type is generator instead of list  \n",
    "#Yield: doesnt not run the code when it's called\n",
    "def generator():\n",
    "    print('the generator is begin')\n",
    "    for i in range(10):\n",
    "        yield i*2 # to create a generator type.\n",
    "the_generator=generator()# when a generator function call, no code is immediately exectuted\n",
    "for x in the_generator:# consider each one result that calculated on the fly by (yield)\n",
    "    print(x,end=' ')# print each one result that's on the fly\n",
    "#Generator expression\n",
    "the_generator=(x*2 for x in range(10))# =def generator that used (yield)\n",
    "#-----------------------------------------------------------------------------\n",
    "#Itertools module: collection of generator tool\n",
    "#Groupby\n",
    "names=['ngoc','ngoc2','thach','thach2']\n",
    "first_letter=lambda x:x[0]\n",
    "for firstletter,name in itertools.groupby(names,key=first_letter):# group by (names) List with the key is first_letter function\n",
    "    print(firstletter,list(name)) #name is a generator because name is a value on the fly that get from the (itertool.groupby) method\n",
    "#----------------------------------------------------------------------\n",
    "#Error and exception handling:(try,except,else,finally)\n",
    "f=open('Chap2_PythonLanguageBasics.ipynb','w')\n",
    "try:\n",
    "    writefile(f)# try to run the code\n",
    "except (NameError,ValueError):\n",
    "    print('failed')# when try is fail becauseof NameError and ValueError, this'll print failed \n",
    "else:\n",
    "    print('succeed')# when try is True it'l be printed this\n",
    "finally:\n",
    "    f.close()# regardless the preceding code do or not, this'l always close file (f)\n",
    "#-----------------------------------------------------------------------"
   ]
  },
  {
   "cell_type": "markdown",
   "metadata": {},
   "source": [
    "# File and Operation system"
   ]
  },
  {
   "cell_type": "code",
   "execution_count": 82,
   "metadata": {},
   "outputs": [
    {
     "data": {
      "text/plain": [
       "bytes"
      ]
     },
     "execution_count": 82,
     "metadata": {},
     "output_type": "execute_result"
    }
   ],
   "source": [
    "with open('D:/Sublime Text 3/Script ST3/random_count_in_bucket.txt','r') as f:\n",
    "    lines=[x.strip() for x in f]# automatically close file when exit with block\n",
    "f=open('D:/Sublime Text 3/Script ST3/random_count_in_bucket.txt','r+')# Default read only mode\n",
    "f.read(5)# blackened from the begin=0 to end=5\n",
    "f.tell()# tell the position of cursor\n",
    "f.seek(10)# move the cursor to the position=10\n",
    "#some mode: (r),(w) is write file after erasing everthing in existed file\n",
    "#(x) is write-only,fail if not exist file\n",
    "#(a) is append and create if not exist file\n",
    "#(r+) is read and write,(b) is binary mode,(t) is text-mode( can use with rt,wt,xt)\n",
    "#method:\n",
    "# read(size) to indicate the number of byte to read from the cursor\n",
    "f.write('dinhthethach')\n",
    "lst=['ngoc','thach','python']\n",
    "f.writelines(x for x in lst)# careful because it'l overwrite to exist file from the cursor\n",
    "f.closed#check f closed or not\n",
    "string='Sueña el '\n",
    "string1=string.encode('utf-8')\n",
    "type(string1)\n"
   ]
  },
  {
   "cell_type": "code",
   "execution_count": null,
   "metadata": {},
   "outputs": [],
   "source": []
  },
  {
   "cell_type": "code",
   "execution_count": null,
   "metadata": {},
   "outputs": [],
   "source": []
  }
 ],
 "metadata": {
  "kernelspec": {
   "display_name": "Python 3",
   "language": "python",
   "name": "python3"
  },
  "language_info": {
   "codemirror_mode": {
    "name": "ipython",
    "version": 3
   },
   "file_extension": ".py",
   "mimetype": "text/x-python",
   "name": "python",
   "nbconvert_exporter": "python",
   "pygments_lexer": "ipython3",
   "version": "3.6.5"
  }
 },
 "nbformat": 4,
 "nbformat_minor": 2
}
