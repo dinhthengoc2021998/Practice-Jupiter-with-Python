{
 "cells": [
  {
   "cell_type": "code",
   "execution_count": 1,
   "metadata": {},
   "outputs": [],
   "source": [
    "import numpy as np\n",
    "import random\n",
    "import matplotlib.pyplot as plt\n",
    "import pandas as pd\n",
    "import sys\n",
    "import csv"
   ]
  },
  {
   "cell_type": "markdown",
   "metadata": {},
   "source": [
    "# Reading and Writeing Data in Text Format"
   ]
  },
  {
   "cell_type": "code",
   "execution_count": 2,
   "metadata": {},
   "outputs": [
    {
     "data": {
      "text/html": [
       "<div>\n",
       "<style scoped>\n",
       "    .dataframe tbody tr th:only-of-type {\n",
       "        vertical-align: middle;\n",
       "    }\n",
       "\n",
       "    .dataframe tbody tr th {\n",
       "        vertical-align: top;\n",
       "    }\n",
       "\n",
       "    .dataframe thead th {\n",
       "        text-align: right;\n",
       "    }\n",
       "</style>\n",
       "<table border=\"1\" class=\"dataframe\">\n",
       "  <thead>\n",
       "    <tr style=\"text-align: right;\">\n",
       "      <th></th>\n",
       "      <th>a</th>\n",
       "      <th>b</th>\n",
       "      <th>c</th>\n",
       "      <th>d</th>\n",
       "      <th>message</th>\n",
       "    </tr>\n",
       "  </thead>\n",
       "  <tbody>\n",
       "    <tr>\n",
       "      <th>0</th>\n",
       "      <td>1</td>\n",
       "      <td>2</td>\n",
       "      <td>3</td>\n",
       "      <td>4</td>\n",
       "      <td>hello</td>\n",
       "    </tr>\n",
       "    <tr>\n",
       "      <th>1</th>\n",
       "      <td>5</td>\n",
       "      <td>6</td>\n",
       "      <td>7</td>\n",
       "      <td>8</td>\n",
       "      <td>world</td>\n",
       "    </tr>\n",
       "    <tr>\n",
       "      <th>2</th>\n",
       "      <td>9</td>\n",
       "      <td>10</td>\n",
       "      <td>11</td>\n",
       "      <td>12</td>\n",
       "      <td>foo</td>\n",
       "    </tr>\n",
       "  </tbody>\n",
       "</table>\n",
       "</div>"
      ],
      "text/plain": [
       "   a   b   c   d message\n",
       "0  1   2   3   4   hello\n",
       "1  5   6   7   8   world\n",
       "2  9  10  11  12     foo"
      ]
     },
     "execution_count": 2,
     "metadata": {},
     "output_type": "execute_result"
    }
   ],
   "source": [
    "ex1='Pydata-book/pydata-book-2nd-edition/examples/ex1.csv'\n",
    "df=pd.read_csv(ex1,delimiter=',')\n",
    "pd.read_table(ex1,delimiter=',')\n",
    "# take the n-th row as the axis=1\n",
    "pd.read_csv(ex1,header=0,delimiter=',')\n"
   ]
  },
  {
   "cell_type": "code",
   "execution_count": 3,
   "metadata": {},
   "outputs": [
    {
     "data": {
      "text/html": [
       "<div>\n",
       "<style scoped>\n",
       "    .dataframe tbody tr th:only-of-type {\n",
       "        vertical-align: middle;\n",
       "    }\n",
       "\n",
       "    .dataframe tbody tr th {\n",
       "        vertical-align: top;\n",
       "    }\n",
       "\n",
       "    .dataframe thead th {\n",
       "        text-align: right;\n",
       "    }\n",
       "</style>\n",
       "<table border=\"1\" class=\"dataframe\">\n",
       "  <thead>\n",
       "    <tr style=\"text-align: right;\">\n",
       "      <th></th>\n",
       "      <th></th>\n",
       "      <th>B</th>\n",
       "      <th>C</th>\n",
       "      <th>D</th>\n",
       "    </tr>\n",
       "    <tr>\n",
       "      <th>A</th>\n",
       "      <th>Message</th>\n",
       "      <th></th>\n",
       "      <th></th>\n",
       "      <th></th>\n",
       "    </tr>\n",
       "  </thead>\n",
       "  <tbody>\n",
       "    <tr>\n",
       "      <th>1</th>\n",
       "      <th>hello</th>\n",
       "      <td>2</td>\n",
       "      <td>3</td>\n",
       "      <td>4</td>\n",
       "    </tr>\n",
       "    <tr>\n",
       "      <th>5</th>\n",
       "      <th>world</th>\n",
       "      <td>6</td>\n",
       "      <td>7</td>\n",
       "      <td>8</td>\n",
       "    </tr>\n",
       "    <tr>\n",
       "      <th>9</th>\n",
       "      <th>foo</th>\n",
       "      <td>10</td>\n",
       "      <td>11</td>\n",
       "      <td>12</td>\n",
       "    </tr>\n",
       "  </tbody>\n",
       "</table>\n",
       "</div>"
      ],
      "text/plain": [
       "            B   C   D\n",
       "A Message            \n",
       "1 hello     2   3   4\n",
       "5 world     6   7   8\n",
       "9 foo      10  11  12"
      ]
     },
     "execution_count": 3,
     "metadata": {},
     "output_type": "execute_result"
    }
   ],
   "source": [
    "ex2='Pydata-book/pydata-book-2nd-edition/examples/ex2.csv'\n",
    "#Names the columns\n",
    "names=['A','B','C','D','Message']\n",
    "pd.read_csv(ex2,names=names)\n",
    "# Set the index( list of index) with the columns\n",
    "pd.read_csv(ex2,names=names,index_col=['A','Message'])\n"
   ]
  },
  {
   "cell_type": "code",
   "execution_count": 4,
   "metadata": {},
   "outputs": [
    {
     "data": {
      "text/html": [
       "<div>\n",
       "<style scoped>\n",
       "    .dataframe tbody tr th:only-of-type {\n",
       "        vertical-align: middle;\n",
       "    }\n",
       "\n",
       "    .dataframe tbody tr th {\n",
       "        vertical-align: top;\n",
       "    }\n",
       "\n",
       "    .dataframe thead th {\n",
       "        text-align: right;\n",
       "    }\n",
       "</style>\n",
       "<table border=\"1\" class=\"dataframe\">\n",
       "  <thead>\n",
       "    <tr style=\"text-align: right;\">\n",
       "      <th></th>\n",
       "      <th></th>\n",
       "      <th>value1</th>\n",
       "      <th>value2</th>\n",
       "    </tr>\n",
       "    <tr>\n",
       "      <th>key1</th>\n",
       "      <th>key2</th>\n",
       "      <th></th>\n",
       "      <th></th>\n",
       "    </tr>\n",
       "  </thead>\n",
       "  <tbody>\n",
       "    <tr>\n",
       "      <th rowspan=\"4\" valign=\"top\">one</th>\n",
       "      <th>a</th>\n",
       "      <td>1</td>\n",
       "      <td>2</td>\n",
       "    </tr>\n",
       "    <tr>\n",
       "      <th>b</th>\n",
       "      <td>3</td>\n",
       "      <td>4</td>\n",
       "    </tr>\n",
       "    <tr>\n",
       "      <th>c</th>\n",
       "      <td>5</td>\n",
       "      <td>6</td>\n",
       "    </tr>\n",
       "    <tr>\n",
       "      <th>d</th>\n",
       "      <td>7</td>\n",
       "      <td>8</td>\n",
       "    </tr>\n",
       "    <tr>\n",
       "      <th rowspan=\"4\" valign=\"top\">two</th>\n",
       "      <th>a</th>\n",
       "      <td>9</td>\n",
       "      <td>10</td>\n",
       "    </tr>\n",
       "    <tr>\n",
       "      <th>b</th>\n",
       "      <td>11</td>\n",
       "      <td>12</td>\n",
       "    </tr>\n",
       "    <tr>\n",
       "      <th>c</th>\n",
       "      <td>13</td>\n",
       "      <td>14</td>\n",
       "    </tr>\n",
       "    <tr>\n",
       "      <th>d</th>\n",
       "      <td>15</td>\n",
       "      <td>16</td>\n",
       "    </tr>\n",
       "  </tbody>\n",
       "</table>\n",
       "</div>"
      ],
      "text/plain": [
       "           value1  value2\n",
       "key1 key2                \n",
       "one  a          1       2\n",
       "     b          3       4\n",
       "     c          5       6\n",
       "     d          7       8\n",
       "two  a          9      10\n",
       "     b         11      12\n",
       "     c         13      14\n",
       "     d         15      16"
      ]
     },
     "execution_count": 4,
     "metadata": {},
     "output_type": "execute_result"
    }
   ],
   "source": [
    "mindex='Pydata-book/pydata-book-2nd-edition/examples/csv_mindex.csv'\n",
    "# use 2 columns as in index with the unique index\n",
    "pd.read_csv(mindex,index_col=['key1','key2'])"
   ]
  },
  {
   "cell_type": "code",
   "execution_count": 5,
   "metadata": {},
   "outputs": [
    {
     "data": {
      "text/html": [
       "<div>\n",
       "<style scoped>\n",
       "    .dataframe tbody tr th:only-of-type {\n",
       "        vertical-align: middle;\n",
       "    }\n",
       "\n",
       "    .dataframe tbody tr th {\n",
       "        vertical-align: top;\n",
       "    }\n",
       "\n",
       "    .dataframe thead th {\n",
       "        text-align: right;\n",
       "    }\n",
       "</style>\n",
       "<table border=\"1\" class=\"dataframe\">\n",
       "  <thead>\n",
       "    <tr style=\"text-align: right;\">\n",
       "      <th></th>\n",
       "      <th>A</th>\n",
       "      <th>B</th>\n",
       "      <th>C</th>\n",
       "    </tr>\n",
       "  </thead>\n",
       "  <tbody>\n",
       "    <tr>\n",
       "      <th>aaa</th>\n",
       "      <td>-0.264438</td>\n",
       "      <td>-1.026059</td>\n",
       "      <td>-0.619500</td>\n",
       "    </tr>\n",
       "    <tr>\n",
       "      <th>bbb</th>\n",
       "      <td>0.927272</td>\n",
       "      <td>0.302904</td>\n",
       "      <td>-0.032399</td>\n",
       "    </tr>\n",
       "    <tr>\n",
       "      <th>ccc</th>\n",
       "      <td>-0.264273</td>\n",
       "      <td>-0.386314</td>\n",
       "      <td>-0.217601</td>\n",
       "    </tr>\n",
       "    <tr>\n",
       "      <th>ddd</th>\n",
       "      <td>-0.871858</td>\n",
       "      <td>-0.348382</td>\n",
       "      <td>1.100491</td>\n",
       "    </tr>\n",
       "  </tbody>\n",
       "</table>\n",
       "</div>"
      ],
      "text/plain": [
       "            A         B         C\n",
       "aaa -0.264438 -1.026059 -0.619500\n",
       "bbb  0.927272  0.302904 -0.032399\n",
       "ccc -0.264273 -0.386314 -0.217601\n",
       "ddd -0.871858 -0.348382  1.100491"
      ]
     },
     "execution_count": 5,
     "metadata": {},
     "output_type": "execute_result"
    }
   ],
   "source": [
    "ex3='Pydata-book/pydata-book-2nd-edition/examples/ex3.csv'\n",
    "df=open(ex3)\n",
    "# open to see what the type of delimiter\n",
    "list(open(ex3))# partircular that is has type of whitespace delimiter\n",
    "pd.read_csv(ex3,delim_whitespace=True)\n",
    "pd.read_csv(ex3,sep='\\s+',)\n"
   ]
  },
  {
   "cell_type": "code",
   "execution_count": 6,
   "metadata": {},
   "outputs": [
    {
     "ename": "SyntaxError",
     "evalue": "invalid syntax (<ipython-input-6-2c1f7fe48eac>, line 2)",
     "output_type": "error",
     "traceback": [
      "\u001b[1;36m  File \u001b[1;32m\"<ipython-input-6-2c1f7fe48eac>\"\u001b[1;36m, line \u001b[1;32m2\u001b[0m\n\u001b[1;33m    see that the type of delimiter\u001b[0m\n\u001b[1;37m           ^\u001b[0m\n\u001b[1;31mSyntaxError\u001b[0m\u001b[1;31m:\u001b[0m invalid syntax\n"
     ]
    }
   ],
   "source": [
    "ex5='Pydata-book/pydata-book-2nd-edition/examples/ex5.csv'\n",
    "see that the type of delimiter\n",
    "list(open(ex5))\n",
    "#set the position of columns:values is na_values\n",
    "df=pd.read_csv(ex5,delimiter=',',na_values={'something':'one','message':['world','foo']})\n",
    "#set the na_value as the type'||'\n",
    "df.fillna(value='||',inplace=True)\n",
    "df.iloc[0,0]='one'"
   ]
  },
  {
   "cell_type": "markdown",
   "metadata": {},
   "source": [
    "# Reading Text Files in Pieces"
   ]
  },
  {
   "cell_type": "code",
   "execution_count": null,
   "metadata": {},
   "outputs": [],
   "source": [
    "ex6='Pydata-book/pydata-book-2nd-edition/examples/ex6.csv'\n",
    "list(open(ex6))\n",
    "# Choose the max of row to display\n",
    "pd.options.display.max_rows=10\n",
    "df6=pd.read_csv(ex6)# Only display 5 headrows and 5 tailrows \n",
    "pd.read_csv(ex6,nrows=20)\n",
    "# take a subset of series value_count of key with head,tail,[4:1],loc['X']\n",
    "df6.key.value_counts().tail(10)"
   ]
  },
  {
   "cell_type": "markdown",
   "metadata": {},
   "source": [
    "# Writing Data to Text Format\n"
   ]
  },
  {
   "cell_type": "code",
   "execution_count": null,
   "metadata": {},
   "outputs": [],
   "source": [
    "out='Pydata-book/pydata-book-2nd-edition/examples/out.csv'\n",
    "list(open('Pydata-book/pydata-book-2nd-edition/examples/out.csv'))\n",
    "df=pd.read_csv(ex5)\n",
    "df.to_csv('Pydata-book/pydata-book-2nd-edition/examples/out.csv')\n",
    "# Use sys.stdout to change the separate character\n",
    "df.to_csv(sys.stdout,sep='|',na_rep='NULL')# replace NA is '||' with (na_rep)\n",
    "print()\n",
    "# Drop the index and header\n",
    "df.to_csv(sys.stdout,index=False,header=True)\n",
    "print()\n",
    "tseries='Pydata-book/pydata-book-2nd-edition/examples/tseries.csv'\n",
    "#create a range of date with the period is the day of month\n",
    "dates=pd.date_range('1/1/2018',periods=31)\n",
    "# set the series of day of month as a index\n",
    "ts=pd.Series(np.arange(31),index=dates)# take the series with the index is datetime\n",
    "df_ts=pd.DataFrame(np.arange(93).reshape(31,3),index=dates,columns=list(('abc')))# df with index is datetimes\n",
    "# show the csv format of df_ts with index,columns and replace NA is null\n",
    "# sys.stdout is to use '\\n' for friendly representation the table\n",
    "df_ts.index.name='dates'\n",
    "df_ts.columns.name='properties'\n",
    "df_ts.to_csv(sys.stdout,sep='|',index=True,columns=['a','b','c'],na_rep='Null')\n",
    "\n"
   ]
  },
  {
   "cell_type": "markdown",
   "metadata": {},
   "source": [
    "# Working with Delimited Formats"
   ]
  },
  {
   "cell_type": "code",
   "execution_count": null,
   "metadata": {},
   "outputs": [],
   "source": [
    "ex7='Pydata-book/pydata-book-2nd-edition/examples/ex7.csv'\n",
    "f=open(ex7)\n",
    "# create a nested list containing \n",
    "with open(ex7) as f:\n",
    "    lines=list(csv.reader(f))\n",
    "#split header that contains columns and instance is value of columns\n",
    "header,instance=lines[0],lines[1:]\n",
    "# create a dictionary form from a list form\n",
    "dictionary={h:v for h,v in zip(header,zip(*instance))}"
   ]
  },
  {
   "cell_type": "markdown",
   "metadata": {},
   "source": [
    "# JSON Data"
   ]
  },
  {
   "cell_type": "code",
   "execution_count": null,
   "metadata": {},
   "outputs": [],
   "source": [
    "json=pd.read_json('Pydata-book/pydata-book-2nd-edition/examples/example.json')\n",
    "json"
   ]
  },
  {
   "cell_type": "markdown",
   "metadata": {},
   "source": [
    "# XML and HTML: Web Scraping"
   ]
  },
  {
   "cell_type": "code",
   "execution_count": null,
   "metadata": {
    "scrolled": true
   },
   "outputs": [],
   "source": [
    "pd.options.display.max_rows=8\n",
    "#read a file from web with format is .html\n",
    "tables=pd.read_html('Pydata-book/pydata-book-2nd-edition/examples/fdic_failed_bank_list.html')\n",
    "# use tables[0] is more easier table to see\n",
    "failures=tables[0]\n",
    "failures.head()\n",
    "# count the number bank is failure in year\n",
    "# convert columns closing Date into datatime type\n",
    "timestamp=pd.to_datetime(failures['Closing Date'])\n",
    "#count the number of unique year that appear in the series timestamp\n",
    "timestamp.dt.year.value_counts()"
   ]
  },
  {
   "cell_type": "markdown",
   "metadata": {},
   "source": [
    "# Parsing XML with lxml.objectify\n",
    "## Hard to understand!"
   ]
  },
  {
   "cell_type": "code",
   "execution_count": null,
   "metadata": {},
   "outputs": [],
   "source": [
    "from lxml import objectify\n",
    "path='C:/Users/Ngoc/Desktop/Python for DA/Pydata-book/pydata-book-2nd-edition/datasets/mta_perf/Performance_MNR.xml'\n",
    "parsed=objectify.parse(open(path))\n",
    "root=parsed.getroot()\n",
    "data=[]\n",
    "skip_fields=['PARENT_SEQ','INDICATOR_SEQ','DESIRED_CHANGE','DECIMAL_PLACES']\n",
    "for elt in root.INDICATOR:\n",
    "    el_data={}\n",
    "    for child in elt.getchildren():\n",
    "        if child.tag in skip_fields:\n",
    "            continue\n",
    "        el_data[child.tag]=child.pyval\n",
    "    data.append(el_data)\n",
    "perf=pd.DataFrame(data)    \n",
    "perf.head()"
   ]
  },
  {
   "cell_type": "markdown",
   "metadata": {},
   "source": [
    "# 6.2 Binary Data Formats"
   ]
  },
  {
   "cell_type": "code",
   "execution_count": null,
   "metadata": {},
   "outputs": [],
   "source": [
    "#Pickle is save in short term so when we change the version it'might be cant read pickled\n",
    "df=pd.read_csv(ex1)\n",
    "df.to_pickle('Pydata-book/pydata-book-2nd-edition/examples/df_pickled')\n",
    "pd.read_pickle('Pydata-book/pydata-book-2nd-edition/examples/df_pickled')"
   ]
  },
  {
   "cell_type": "markdown",
   "metadata": {},
   "source": [
    "## Using HDF5 Format"
   ]
  },
  {
   "cell_type": "code",
   "execution_count": 55,
   "metadata": {},
   "outputs": [],
   "source": [
    "#create a dataframe that contains 2 col is 'a','b'\n",
    "frame=pd.DataFrame({'a':np.random.randn(100),'b':np.random.randn(100)})\n",
    "# Store file with format .h5, create a file if it's not existed\n",
    "store=pd.HDFStore('mydata.h5')\n",
    "#Set the key access to dataframe is 'obj1'\n",
    "store['obj1']=frame\n",
    "#Set the key access to series is 'a'\n",
    "store['a']=frame['a']\n",
    "#Set the  format of series 'b' is 'table' or 'fixed'\n",
    "store.put('b',frame['b'],format='table')\n",
    "#The format HDF5 can be used for query with 'where=' statement\n",
    "store.select('b',where='index<15 and index>11')\n",
    "# close the store\n",
    "store.close()\n",
    "# Load file hdf5\n",
    "f=pd.HDFStore('mydata.h5')\n",
    "#f['a']"
   ]
  },
  {
   "cell_type": "markdown",
   "metadata": {},
   "source": [
    "# Reading MS Excel files"
   ]
  },
  {
   "cell_type": "code",
   "execution_count": 71,
   "metadata": {},
   "outputs": [
    {
     "data": {
      "text/html": [
       "<div>\n",
       "<style scoped>\n",
       "    .dataframe tbody tr th:only-of-type {\n",
       "        vertical-align: middle;\n",
       "    }\n",
       "\n",
       "    .dataframe tbody tr th {\n",
       "        vertical-align: top;\n",
       "    }\n",
       "\n",
       "    .dataframe thead th {\n",
       "        text-align: right;\n",
       "    }\n",
       "</style>\n",
       "<table border=\"1\" class=\"dataframe\">\n",
       "  <thead>\n",
       "    <tr style=\"text-align: right;\">\n",
       "      <th></th>\n",
       "      <th>a</th>\n",
       "      <th>b</th>\n",
       "      <th>c</th>\n",
       "      <th>d</th>\n",
       "      <th>message</th>\n",
       "    </tr>\n",
       "  </thead>\n",
       "  <tbody>\n",
       "    <tr>\n",
       "      <th>0</th>\n",
       "      <td>1</td>\n",
       "      <td>2</td>\n",
       "      <td>3</td>\n",
       "      <td>4</td>\n",
       "      <td>hello</td>\n",
       "    </tr>\n",
       "    <tr>\n",
       "      <th>1</th>\n",
       "      <td>1</td>\n",
       "      <td>2</td>\n",
       "      <td>3</td>\n",
       "      <td>4</td>\n",
       "      <td>hello</td>\n",
       "    </tr>\n",
       "    <tr>\n",
       "      <th>2</th>\n",
       "      <td>1</td>\n",
       "      <td>2</td>\n",
       "      <td>3</td>\n",
       "      <td>4</td>\n",
       "      <td>hello</td>\n",
       "    </tr>\n",
       "  </tbody>\n",
       "</table>\n",
       "</div>"
      ],
      "text/plain": [
       "   a  b  c  d message\n",
       "0  1  2  3  4   hello\n",
       "1  1  2  3  4   hello\n",
       "2  1  2  3  4   hello"
      ]
     },
     "execution_count": 71,
     "metadata": {},
     "output_type": "execute_result"
    }
   ],
   "source": [
    "#choose the excel file \n",
    "excel=pd.ExcelFile('Pydata-book/pydata-book-2nd-edition/examples/ex1.xlsx')\n",
    "# See the name of sheet in excel file\n",
    "excel.sheet_names\n",
    "#Read the file that has format is xlsx or xls\n",
    "sheet2=pd.read_excel(excel,'Sheet2')# choose (file excel, sheet)\n",
    "sheet2"
   ]
  },
  {
   "cell_type": "markdown",
   "metadata": {},
   "source": [
    "# 6.3Interacting with Web APIs"
   ]
  },
  {
   "cell_type": "code",
   "execution_count": 86,
   "metadata": {
    "scrolled": true
   },
   "outputs": [
    {
     "data": {
      "text/html": [
       "<div>\n",
       "<style scoped>\n",
       "    .dataframe tbody tr th:only-of-type {\n",
       "        vertical-align: middle;\n",
       "    }\n",
       "\n",
       "    .dataframe tbody tr th {\n",
       "        vertical-align: top;\n",
       "    }\n",
       "\n",
       "    .dataframe thead th {\n",
       "        text-align: right;\n",
       "    }\n",
       "</style>\n",
       "<table border=\"1\" class=\"dataframe\">\n",
       "  <thead>\n",
       "    <tr style=\"text-align: right;\">\n",
       "      <th></th>\n",
       "      <th>comments_url</th>\n",
       "      <th>created_at</th>\n",
       "      <th>events_url</th>\n",
       "      <th>pull_request</th>\n",
       "    </tr>\n",
       "  </thead>\n",
       "  <tbody>\n",
       "    <tr>\n",
       "      <th>0</th>\n",
       "      <td>https://api.github.com/repos/pandas-dev/pandas...</td>\n",
       "      <td>2018-07-19T11:52:45Z</td>\n",
       "      <td>https://api.github.com/repos/pandas-dev/pandas...</td>\n",
       "      <td>NaN</td>\n",
       "    </tr>\n",
       "    <tr>\n",
       "      <th>1</th>\n",
       "      <td>https://api.github.com/repos/pandas-dev/pandas...</td>\n",
       "      <td>2018-07-19T11:52:08Z</td>\n",
       "      <td>https://api.github.com/repos/pandas-dev/pandas...</td>\n",
       "      <td>NaN</td>\n",
       "    </tr>\n",
       "    <tr>\n",
       "      <th>2</th>\n",
       "      <td>https://api.github.com/repos/pandas-dev/pandas...</td>\n",
       "      <td>2018-07-19T11:07:41Z</td>\n",
       "      <td>https://api.github.com/repos/pandas-dev/pandas...</td>\n",
       "      <td>NaN</td>\n",
       "    </tr>\n",
       "    <tr>\n",
       "      <th>3</th>\n",
       "      <td>https://api.github.com/repos/pandas-dev/pandas...</td>\n",
       "      <td>2018-07-19T04:06:09Z</td>\n",
       "      <td>https://api.github.com/repos/pandas-dev/pandas...</td>\n",
       "      <td>{'url': 'https://api.github.com/repos/pandas-d...</td>\n",
       "    </tr>\n",
       "    <tr>\n",
       "      <th>4</th>\n",
       "      <td>https://api.github.com/repos/pandas-dev/pandas...</td>\n",
       "      <td>2018-07-19T01:42:20Z</td>\n",
       "      <td>https://api.github.com/repos/pandas-dev/pandas...</td>\n",
       "      <td>{'url': 'https://api.github.com/repos/pandas-d...</td>\n",
       "    </tr>\n",
       "    <tr>\n",
       "      <th>...</th>\n",
       "      <td>...</td>\n",
       "      <td>...</td>\n",
       "      <td>...</td>\n",
       "      <td>...</td>\n",
       "    </tr>\n",
       "    <tr>\n",
       "      <th>25</th>\n",
       "      <td>https://api.github.com/repos/pandas-dev/pandas...</td>\n",
       "      <td>2018-07-17T01:03:35Z</td>\n",
       "      <td>https://api.github.com/repos/pandas-dev/pandas...</td>\n",
       "      <td>NaN</td>\n",
       "    </tr>\n",
       "    <tr>\n",
       "      <th>26</th>\n",
       "      <td>https://api.github.com/repos/pandas-dev/pandas...</td>\n",
       "      <td>2018-07-16T23:44:05Z</td>\n",
       "      <td>https://api.github.com/repos/pandas-dev/pandas...</td>\n",
       "      <td>NaN</td>\n",
       "    </tr>\n",
       "    <tr>\n",
       "      <th>27</th>\n",
       "      <td>https://api.github.com/repos/pandas-dev/pandas...</td>\n",
       "      <td>2018-07-16T18:14:22Z</td>\n",
       "      <td>https://api.github.com/repos/pandas-dev/pandas...</td>\n",
       "      <td>NaN</td>\n",
       "    </tr>\n",
       "    <tr>\n",
       "      <th>28</th>\n",
       "      <td>https://api.github.com/repos/pandas-dev/pandas...</td>\n",
       "      <td>2018-07-16T15:38:53Z</td>\n",
       "      <td>https://api.github.com/repos/pandas-dev/pandas...</td>\n",
       "      <td>{'url': 'https://api.github.com/repos/pandas-d...</td>\n",
       "    </tr>\n",
       "    <tr>\n",
       "      <th>29</th>\n",
       "      <td>https://api.github.com/repos/pandas-dev/pandas...</td>\n",
       "      <td>2018-07-16T14:54:16Z</td>\n",
       "      <td>https://api.github.com/repos/pandas-dev/pandas...</td>\n",
       "      <td>NaN</td>\n",
       "    </tr>\n",
       "  </tbody>\n",
       "</table>\n",
       "<p>30 rows × 4 columns</p>\n",
       "</div>"
      ],
      "text/plain": [
       "                                         comments_url            created_at  \\\n",
       "0   https://api.github.com/repos/pandas-dev/pandas...  2018-07-19T11:52:45Z   \n",
       "1   https://api.github.com/repos/pandas-dev/pandas...  2018-07-19T11:52:08Z   \n",
       "2   https://api.github.com/repos/pandas-dev/pandas...  2018-07-19T11:07:41Z   \n",
       "3   https://api.github.com/repos/pandas-dev/pandas...  2018-07-19T04:06:09Z   \n",
       "4   https://api.github.com/repos/pandas-dev/pandas...  2018-07-19T01:42:20Z   \n",
       "..                                                ...                   ...   \n",
       "25  https://api.github.com/repos/pandas-dev/pandas...  2018-07-17T01:03:35Z   \n",
       "26  https://api.github.com/repos/pandas-dev/pandas...  2018-07-16T23:44:05Z   \n",
       "27  https://api.github.com/repos/pandas-dev/pandas...  2018-07-16T18:14:22Z   \n",
       "28  https://api.github.com/repos/pandas-dev/pandas...  2018-07-16T15:38:53Z   \n",
       "29  https://api.github.com/repos/pandas-dev/pandas...  2018-07-16T14:54:16Z   \n",
       "\n",
       "                                           events_url  \\\n",
       "0   https://api.github.com/repos/pandas-dev/pandas...   \n",
       "1   https://api.github.com/repos/pandas-dev/pandas...   \n",
       "2   https://api.github.com/repos/pandas-dev/pandas...   \n",
       "3   https://api.github.com/repos/pandas-dev/pandas...   \n",
       "4   https://api.github.com/repos/pandas-dev/pandas...   \n",
       "..                                                ...   \n",
       "25  https://api.github.com/repos/pandas-dev/pandas...   \n",
       "26  https://api.github.com/repos/pandas-dev/pandas...   \n",
       "27  https://api.github.com/repos/pandas-dev/pandas...   \n",
       "28  https://api.github.com/repos/pandas-dev/pandas...   \n",
       "29  https://api.github.com/repos/pandas-dev/pandas...   \n",
       "\n",
       "                                         pull_request  \n",
       "0                                                 NaN  \n",
       "1                                                 NaN  \n",
       "2                                                 NaN  \n",
       "3   {'url': 'https://api.github.com/repos/pandas-d...  \n",
       "4   {'url': 'https://api.github.com/repos/pandas-d...  \n",
       "..                                                ...  \n",
       "25                                                NaN  \n",
       "26                                                NaN  \n",
       "27                                                NaN  \n",
       "28  {'url': 'https://api.github.com/repos/pandas-d...  \n",
       "29                                                NaN  \n",
       "\n",
       "[30 rows x 4 columns]"
      ]
     },
     "execution_count": 86,
     "metadata": {},
     "output_type": "execute_result"
    }
   ],
   "source": [
    "pd.options.display.max_rows=10\n",
    "# Use the requests package to acces the Web APIs  from Python\n",
    "import requests\n",
    "#Set the url that we need to use\n",
    "url='https://api.github.com/repos/pandas-dev/pandas/issues'\n",
    "# get the content from url with requests.get(url)\n",
    "apis=requests.get(url)\n",
    "# Assign the content to the variable by json() format\n",
    "data=apis.json()\n",
    "# Convert the content to the dataframes\n",
    "df=pd.DataFrame(data,columns=['comments_url','created_at','events_url','pull_request'])\n",
    "df"
   ]
  },
  {
   "cell_type": "markdown",
   "metadata": {},
   "source": [
    "# 6.4 Interacting with DB\n",
    "## Cant do more :). Please help me if you read this code"
   ]
  },
  {
   "cell_type": "code",
   "execution_count": 124,
   "metadata": {},
   "outputs": [
    {
     "ename": "ModuleNotFoundError",
     "evalue": "No module named 'PyMySQL'",
     "output_type": "error",
     "traceback": [
      "\u001b[1;31m---------------------------------------------------------------------------\u001b[0m",
      "\u001b[1;31mModuleNotFoundError\u001b[0m                       Traceback (most recent call last)",
      "\u001b[1;32m<ipython-input-124-51ebcfea79d1>\u001b[0m in \u001b[0;36m<module>\u001b[1;34m()\u001b[0m\n\u001b[0;32m      3\u001b[0m \u001b[0mdb\u001b[0m\u001b[1;33m=\u001b[0m\u001b[0msqlite3\u001b[0m\u001b[1;33m.\u001b[0m\u001b[0mconnect\u001b[0m\u001b[1;33m(\u001b[0m\u001b[1;34m'D:/SQL/smallRelationsInsertFile.sqlite'\u001b[0m\u001b[1;33m)\u001b[0m\u001b[1;33m\u001b[0m\u001b[0m\n\u001b[0;32m      4\u001b[0m \u001b[1;32mimport\u001b[0m \u001b[0msqlalchemy\u001b[0m \u001b[1;32mas\u001b[0m \u001b[0msqla\u001b[0m\u001b[1;33m\u001b[0m\u001b[0m\n\u001b[1;32m----> 5\u001b[1;33m \u001b[1;32mimport\u001b[0m \u001b[0mPyMySQL\u001b[0m\u001b[1;33m\u001b[0m\u001b[0m\n\u001b[0m\u001b[0;32m      6\u001b[0m \u001b[0mDB\u001b[0m\u001b[1;33m=\u001b[0m\u001b[0msqla\u001b[0m\u001b[1;33m.\u001b[0m\u001b[0mcreate_engine\u001b[0m\u001b[1;33m(\u001b[0m\u001b[1;34m'mssql+pymysql://DESKTOP-TH36HGO\\SQLEXPRESS/University'\u001b[0m\u001b[1;33m)\u001b[0m\u001b[1;33m\u001b[0m\u001b[0m\n",
      "\u001b[1;31mModuleNotFoundError\u001b[0m: No module named 'PyMySQL'"
     ]
    }
   ],
   "source": [
    "# Read the file sql from MS SQL Server and represent it as dataframe\n",
    "import sqlite3\n",
    "db=sqlite3.connect('D:/SQL/smallRelationsInsertFile.sqlite')\n",
    "import sqlalchemy as sqla\n",
    "import PyMySQL\n",
    "DB=sqla.create_engine('mssql+pymysql://DESKTOP-TH36HGO\\SQLEXPRESS/University')\n",
    "\n"
   ]
  },
  {
   "cell_type": "code",
   "execution_count": null,
   "metadata": {},
   "outputs": [],
   "source": []
  }
 ],
 "metadata": {
  "kernelspec": {
   "display_name": "Python 3",
   "language": "python",
   "name": "python3"
  },
  "language_info": {
   "codemirror_mode": {
    "name": "ipython",
    "version": 3
   },
   "file_extension": ".py",
   "mimetype": "text/x-python",
   "name": "python",
   "nbconvert_exporter": "python",
   "pygments_lexer": "ipython3",
   "version": "3.6.5"
  }
 },
 "nbformat": 4,
 "nbformat_minor": 2
}
