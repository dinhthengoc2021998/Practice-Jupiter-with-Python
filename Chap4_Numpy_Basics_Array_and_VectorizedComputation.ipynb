{
 "cells": [
  {
   "cell_type": "code",
   "execution_count": 1,
   "metadata": {},
   "outputs": [],
   "source": [
    "import os,sys,re,IPython,string\n",
    "import numpy as np\n",
    "import random\n",
    "import matplotlib.pyplot as plt"
   ]
  },
  {
   "cell_type": "markdown",
   "metadata": {},
   "source": [
    "# Basic numpy"
   ]
  },
  {
   "cell_type": "code",
   "execution_count": null,
   "metadata": {},
   "outputs": [],
   "source": [
    "#4.1/A multidiensional array object\n",
    "#-------------------------------------------------------------------\n",
    "#Take information about array and Create table\n",
    "data=np.random.randn(2,2,2,3)\n",
    "data.shape# take the shape of matrix\n",
    "data.size# total the number of element in martrix\n",
    "data.ndim# the number of dimension of matrix(equal the n dimension of shape)\n",
    "data.dtype# show the dtype of homgenenous data ( can connect to other system)\n",
    "data_zero=np.zeros((10),dtype=int)# create the matrix(1,2) take every element is 0\n",
    "data_one=np.ones((2,1))# corresponding the zeros matrix with 1\n",
    "data_empty=np.empty((2,3))\n",
    "######CAREFUL because it'l sometime not return every Os element\n",
    "data_full=np.full(shape=(2,3),dtype=np.float32,fill_value=23)# Create a matrix with full element is (fill_value)\n",
    "data_full_like=np.full_like(a=data_full,fill_value=100)# Like the another array by the shape and dtype(can change)\n",
    "data_itendity=np.identity(n=4,dtype=np.float64)# create a identity array with 1s in diagonal and 0s in elsewhere (=np.eye(n=4)\n",
    "#----------------------------------------------------------------\n",
    "#dtype is important to consider what the kind of data that we need to use \n",
    "lst=[True,False,True,True]\n",
    "data_lst_bool=np.array(lst,dtype=np.bool)# create array with true False value( can use more type is unicode,string,float32,float64)\n",
    "data_lst_string=data_lst_bool.astype(dtype=np.string_)# Np.ASTYPE to convert from one type to another type\n",
    "#convert from a array with dtype=float to dtype=int\n",
    "array_float=np.random.randn(10)\n",
    "array_int=array_float.astype(int)# always create a new array though 2 have the same dtype\n",
    "array_float.astype(data_lst_string.dtype)# convert dtype of (a1)= dtype of (a2)\n",
    "######CAREFUL when (np.string_) can truncate the float if have enough the byte\n",
    "#---------------------------------------------------------------------\n",
    "#Arithmetic with np.array\n",
    "#Compute with scalar vector\n",
    "array_23=np.array([[1.1,2.9,4.3],[4.5,2.3,1.2]],dtype=np.int16)\n",
    "array_23**2# compute with dtype=int16 not by the original value\n",
    "array_23>(array_23**0.5)# dtype=bool; create array with value True,False for each comparison value.(False we'll know this value<=1 and reverse)\n",
    "#Basic Indexing and slicing\n",
    "arr2d = np.array([[1, 2, 3], [4, 5, 6], [7, 8, 9]])# shape(3,3)\n",
    "arr2d[0,1]# = array[0][1] just like to access nested list with pattern [row,column]\n",
    "arr2d[2]=12# like [7,8,9]=[12,12,12] and when we slicing the matrix and change it the original'll be changed \n",
    "copy_subarr2d=arr2d[1].copy()# create array copy, when we changed this,original array'll not change\n",
    "arr3d=np.array([[[1,2,3],[4,5,6]],[[7,8,9],[10,11,12]]])# shape(2,2,3)\n",
    "arr3d[0].shape# shape(2,3)\n",
    "arr2d[1:3,1:3]=arr2d[:2,1:3]# shape(2,2) with [array(row),array(column)]\n",
    "#-----------------------------------------------------------------------\n",
    "#Boolean Indexing\n",
    "names=np.array(['ngoc','thach','ngoc','son','the'])#shape(5,)\n",
    "data=np.random.randn(5,4)\n",
    "#Boolean of True,False( create a copy)\n",
    "data[names=='ngoc']#shape(2,2), take row=position of True (row 1,3)\n",
    "data[names!='ngoc']#shape(1,2)( row 2,4,5)\n",
    "data[(names=='ngoc')|(names=='thach')]# take row= 'ngoc' or 'thach' (row 1,2,3)\n",
    "#Boolean of comparison\n",
    "data[data<1]# shape (15,)\n",
    "data[data<1]=10# set the value of array with the condition is (data<1)\n",
    "data[[-5,-1,2]]=[[12],[11],[15]]#Pickking a submatrix with the list of positional row\n",
    "data=np.arange(20).reshape(4,5)# combinate create a list of range(20) with reshape matrix(4,5)\n",
    "data[[0,1,2,3],[0,1,2,3]]=[1,1,1,1]# Picking 1-darray value by each pair(row1,column1) and then assign this value to 1-darray [1,1,1,1]\n",
    "print(data)\n",
    "data[[1,2,3]][:,[1,2,3,4]] #first,take the submatrix with row=[[1,2,3]](no column), then from this submatrix we choose column=[:,[1,2,3,4]]\n",
    "#---------------------------------------------------------------\n",
    "###################Transposing and swap axes\n",
    "data.T# transposing array by shape(a,b)=reshape(b,a)\n",
    "data1=np.array([[1,1],[2,2]])\n",
    "np.dot(data1.T,data1)# with a,b is 2-D array this formula (np.dot)'ll become mutiple 2 matrix\n",
    "#transpose is permute the position with the corresponding axes\n",
    "#With 2-d array:\n",
    "arr2d=np.arange(6).reshape((2,3))# shape (2,3)\n",
    "arr2d.transpose(1,0)#That means every coordinate of element'l be permuted: (0,0)->(0,0); (0,1)->(1,0);...;(1,2)->(2,1)\n",
    "#with 3-d array:\n",
    "arr3d=np.arange(24).reshape(2,3,4)\n",
    "arr3d.transpose(1,2,0)# that means:(0,1,2)->(1,2,0)=6;(1,2,3)->(2,3,1)=22\n",
    "arr3d.swapaxes(1,2)#means that swap position of pair(1,2) and (0) not change: (0,1,2)->(0,2,1)\n",
    "#-------------------------------------------------------------------\n",
    "#Universal Function(ufunc) is the function with element-wise array\n",
    "arr2d=np.arange(16).reshape(4,4)\n",
    "arr2d.astype(dtype=np.int16)\n",
    "exp_arr2d=np.exp(arr2d)# e^i with i is element-wise array\n",
    "# ufunc can return a multiple result \n",
    "fractional,integral=np.modf(exp_arr2d)#return 2 array with [fractional],[integral] element-wise of x\n",
    "# unary ufunc from binary ufuncs with (maximum,minimum)\n",
    "np.maximum(arr2d,integral,fractional)# return a unary ufuncs that have the maximum of element-wise from array combination\n",
    "#Some unary ufuncs:( abs,fabs),(sqrt,square),(log,log10,log2),(ceil,floor),(isnan,isfinite,isinf),(cos,arccos,)\n",
    "#Some binary ufuncs:(add,subtract,multiply,divide,floor_divide(truncating the remainder),power),(maximum,fmax(with non-NaN)),(greate_equal,greater,not_equal),(logical_and,or,xor(&,|,^))\n"
   ]
  },
  {
   "cell_type": "markdown",
   "metadata": {},
   "source": [
    "# 4.3Array-Oriented Programming with Arrays"
   ]
  },
  {
   "cell_type": "markdown",
   "metadata": {},
   "source": [
    "#### EXPRESSING CONDITIONAL LOGIC AS ARRAY OPERATIONS\n",
    "Meshgrid()\n",
    "\n",
    "np.where(condition,x,y)"
   ]
  },
  {
   "cell_type": "code",
   "execution_count": null,
   "metadata": {},
   "outputs": [],
   "source": [
    "# np.meshgrid is take 2D from 1D that is a point\n",
    "point=np.arange(-5,5,0.01)\n",
    "xs,ys=np.meshgrid(point,point)\n",
    "z=np.sqrt(xs**2+ys**2)\n",
    "# Np.where with conditional list\n",
    "xarr=np.arange(0,10,2).reshape(1,5)\n",
    "yarr=np.arange(1,11,2).reshape(1,5)\n",
    "condi=np.array([True,False,False,True,False])#shape(1,5)\n",
    "arr=np.where(condi,xarr,yarr)#consider element in condi.Element of (xarr,yarr)=Element of (True,False)\n",
    "arr=np.where(condi.reshape(5,1),xarr,yarr)# (xarr,yarr)=element of [[True],[False]]\n",
    "# np.where with condition array \n",
    "arr=np.random.randn(4,4)\n",
    "arr=np.where(arr>0,arr,'negative')# retain arr[element] when element of arr>0, and 'negative' when element of arr<0\n"
   ]
  },
  {
   "cell_type": "markdown",
   "metadata": {},
   "source": [
    "### Mathematical and Statistical Methods\n",
    "Reduction with aggregation\n",
    "\n",
    "Sum,Mean,Std,Cumsum,cumprod,max,min"
   ]
  },
  {
   "cell_type": "code",
   "execution_count": null,
   "metadata": {},
   "outputs": [],
   "source": [
    "#Reduction dimension by use aggregations like SUM,Mean,Standard Deviation\n",
    "arr=np.arange(20).reshape(4,5)\n",
    "arr\n",
    "arr.sum(axis=1)# sum of 5 element in axis=1(=5).That reduce to shape(4,1),ndim=1\n",
    "arr.mean(axis=0)# mean of 4 element in axis=0(=4).That reduce to shape(5,1),ndim=1\n",
    "arr1=np.arange(24).reshape(2,3,4)\n",
    "arr1\n",
    "arr1.sum(axis=2)# reduce to (2,3,1) ,for short to reduce to (2,3).That means we reduce from n.dim=3 to n.dim=2\n",
    "#The aggregation don't reduce the dimension like CUMSUM,CUMPROD( cummulative sum)\n",
    "arr.cumsum(axis=1)# cummulative sum of 5 element from the first element of each row\n",
    "arr.cumprod(axis=0)# cumulative product of 4 element in each column\n",
    "arr1.cumsum(axis=0)# cumsum of element-wise of first.shape(3,4) with second.shape(3,4),respectively\n",
    "arr1.max(axis=2).cumsum(axis=0)# combination max and cumsum.( sequence is do cumsum(axis=0) first then from this do max(axis=2))"
   ]
  },
  {
   "cell_type": "markdown",
   "metadata": {},
   "source": [
    "### Methods for Boolean Arrays\n",
    "Sum of True\n",
    "\n",
    "Any(),ALL()"
   ]
  },
  {
   "cell_type": "code",
   "execution_count": 46,
   "metadata": {},
   "outputs": [
    {
     "data": {
      "text/plain": [
       "True"
      ]
     },
     "execution_count": 46,
     "metadata": {},
     "output_type": "execute_result"
    }
   ],
   "source": [
    "#Because (True=1, False=0), thus when we use sum() we default sum of True=1\n",
    "arr=np.random.randn(10)\n",
    "(arr>0).sum()# sum of True= count of True because True=1\n",
    "#Checks some value is true or false with(ANY,ALL)\n",
    "(arr>0).any()#return True if have at least True in this array\n",
    "arr1=np.array([True,True,True,True]).reshape(2,2)\n",
    "arr.all()# return True is all of true in this array"
   ]
  },
  {
   "cell_type": "markdown",
   "metadata": {},
   "source": [
    "### Sorting"
   ]
  },
  {
   "cell_type": "code",
   "execution_count": null,
   "metadata": {},
   "outputs": [],
   "source": [
    "arr=np.random.randn(2,3,4)\n",
    "sort_arr=np.sort(a=arr,axis=2).copy()#make a copy of array with sorted\n",
    "arr.sort(axis=2)# change the original of arr with sort(combination of axis=2)"
   ]
  },
  {
   "cell_type": "markdown",
   "metadata": {},
   "source": [
    "### Unique and Other set logic\n",
    "np.unique(ar1,ar2)"
   ]
  },
  {
   "cell_type": "code",
   "execution_count": null,
   "metadata": {},
   "outputs": [],
   "source": [
    "arr=np.array(['ngoc','ngoc','son','the','ngoc','thach']).reshape(2,3)\n",
    "np.sort(a=np.unique(ar=arr))# Sort by the unique string in array\n",
    "#Use unique on the 2-d array with the same type of loop value\n",
    "arr1=np.array([[1,2,1],[2,3,2],[3,4,3]]).reshape(3,3)\n",
    "np.unique(ar=arr1,axis=1)# return the shape(3,2) that removed the value that occured 2 times\n",
    "#Use unique to check value if that in the unique list\n",
    "np.in1d(ar1=arr,ar2=['ngoc','thach'])# ar1 is refered array. ar2 contains element need to check"
   ]
  },
  {
   "cell_type": "markdown",
   "metadata": {},
   "source": [
    "### File Input and Output with Arrays\n",
    "Save and Load file .npy/.npz"
   ]
  },
  {
   "cell_type": "code",
   "execution_count": null,
   "metadata": {},
   "outputs": [],
   "source": [
    "#Save one array in a file (.npy) with np.save\n",
    "arr=np.arange(24).reshape(2,3,4)\n",
    "file_save=np.save(file='file_save',arr=arr)\n",
    "f_load=np.load(file='file_save.npy')\n",
    "f_load\n",
    "#Save multiple array in a file (.npz) with np.savez\n",
    "arr1=np.arange(36).reshape(6,6)\n",
    "np.savez(file='file_save1',arr=arr,arr1=arr1)\n",
    "file_load1=np.load(file='file_save1.npz')\n",
    "file_load1['arr']# call the variable that contains that arr"
   ]
  },
  {
   "cell_type": "markdown",
   "metadata": {},
   "source": [
    "## 4.5 Linear Algebra"
   ]
  },
  {
   "cell_type": "code",
   "execution_count": 21,
   "metadata": {},
   "outputs": [
    {
     "name": "stdout",
     "output_type": "stream",
     "text": [
      "[[ 9 12 15]\n",
      " [12 17 22]\n",
      " [15 22 29]]\n"
     ]
    },
    {
     "data": {
      "text/plain": [
       "array([[-0.42426407,  0.80829038,  0.40824829],\n",
       "       [-0.56568542,  0.11547005, -0.81649658],\n",
       "       [-0.70710678, -0.57735027,  0.40824829]])"
      ]
     },
     "execution_count": 21,
     "metadata": {},
     "output_type": "execute_result"
    }
   ],
   "source": [
    "#Muptiply 2 matrix\n",
    "arr=np.array([1,2,3,7,9,10]).reshape(2,3)\n",
    "arr1=np.array([2,3,4,1,5,2]).reshape(3,2)\n",
    "arr.dot(arr1)# return the array(3,3) that is muptiply by 2 matrix\n",
    "arr@ arr1 # like arr.dot(arr1) when both is 2-d array\n",
    "arr*arr1.T# muptiply by element-wise between 2 matrix\n",
    "arr.dot(3)# mupltiply array with scalar array as array*n\n",
    "arr1=np.arange(24).reshape(2,3,4)\n",
    "# np.linalg (numpy.linear algebra)with inv,\n",
    "arr=np.arange(6).reshape(2,3)\n",
    "mat=arr.T.dot(arr)# return a symmetric matrix \n",
    "try:\n",
    "    mat.dot(np.linalg.inv(mat))\n",
    "except:\n",
    "    pass #return a singular matrix because row2=row1*n, row3=row2*m,...\n",
    "a,b=qr(mat) #q is orthorgonal matrix and r is upper matrix"
   ]
  },
  {
   "cell_type": "markdown",
   "metadata": {},
   "source": [
    "## 4.6 Pseudorandom Number Generation\n",
    "#### Normal distribution by np.normal()"
   ]
  },
  {
   "cell_type": "code",
   "execution_count": 12,
   "metadata": {},
   "outputs": [
    {
     "data": {
      "text/plain": [
       "<mtrand.RandomState at 0x21d14cd3a20>"
      ]
     },
     "execution_count": 12,
     "metadata": {},
     "output_type": "execute_result"
    }
   ],
   "source": [
    "#Normal distribution\n",
    "sample=np.random.normal(size=(3,2))# create a random normal distribution \n",
    "sample1=np.random.standard_normal(size=(4,4))# create a standard normal distribution\n",
    "# The random number of this distributioin is generated by an algorithm.\n",
    "# we can change the seed of an algorithm\n",
    "np.random.seed(seed=100) # seed is used for global seed\n",
    "np.random.RandomState(seed=1000) # use for creating a random number that is isolated from others"
   ]
  },
  {
   "cell_type": "markdown",
   "metadata": {},
   "source": [
    "## 4.7 Example: Random Walks"
   ]
  },
  {
   "cell_type": "code",
   "execution_count": 60,
   "metadata": {},
   "outputs": [
    {
     "name": "stdout",
     "output_type": "stream",
     "text": [
      "[[ -1   0  -1 ... -10 -11 -12]\n",
      " [  1   2   3 ... -22 -21 -20]\n",
      " [  1   2   1 ... -68 -67 -68]\n",
      " ...\n",
      " [  1   2   3 ... -38 -37 -36]\n",
      " [  1   2   3 ... -28 -29 -28]\n",
      " [  1   0  -1 ...  44  43  42]]\n",
      "[False False  True ...  True  True  True]\n"
     ]
    },
    {
     "data": {
      "text/plain": [
       "3425"
      ]
     },
     "execution_count": 60,
     "metadata": {},
     "output_type": "execute_result"
    }
   ],
   "source": [
    "#Random walk starting from 0 with steps of 1 and -1 \n",
    "nsteps=1000\n",
    "nwalks=5000\n",
    "sample=np.random.randint(0,2,size=(nwalks,nsteps))# set up the array(5k,1k) with only value 0,1\n",
    "sample=np.where(sample>0,1,-1)# set 1 if sample >0, set -1 else\n",
    "walks=sample.cumsum(axis=1)\n",
    "print(walks)\n",
    "walks.min()\n",
    "np.abs(walks)>=10# set TrueFalse array with |walks|>=10\n",
    "abs30=(np.abs(walks)>=30).any(axis=1)# return True=1, False=0 array if abs(walks)>=30\n",
    "print(abs30)\n",
    "abs30.sum()#count of True as count of abs(walks)>=30\n"
   ]
  },
  {
   "cell_type": "code",
   "execution_count": null,
   "metadata": {},
   "outputs": [],
   "source": []
  }
 ],
 "metadata": {
  "kernelspec": {
   "display_name": "Python 3",
   "language": "python",
   "name": "python3"
  },
  "language_info": {
   "codemirror_mode": {
    "name": "ipython",
    "version": 3
   },
   "file_extension": ".py",
   "mimetype": "text/x-python",
   "name": "python",
   "nbconvert_exporter": "python",
   "pygments_lexer": "ipython3",
   "version": "3.6.5"
  }
 },
 "nbformat": 4,
 "nbformat_minor": 2
}
