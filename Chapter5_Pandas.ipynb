{
 "cells": [
  {
   "cell_type": "code",
   "execution_count": 22,
   "metadata": {},
   "outputs": [],
   "source": [
    "import os,sys,re,IPython,string\n",
    "import numpy as np\n",
    "import random\n",
    "import matplotlib.pyplot as plt\n",
    "import pandas as pd"
   ]
  },
  {
   "cell_type": "markdown",
   "metadata": {},
   "source": [
    "# 5.1 Introduction to pandas Data Structures\n",
    "### Series"
   ]
  },
  {
   "cell_type": "code",
   "execution_count": 2,
   "metadata": {},
   "outputs": [
    {
     "data": {
      "text/plain": [
       "person\n",
       "ngoc     20.0\n",
       "thach    24.0\n",
       "the      48.0\n",
       "HCM       NaN\n",
       "Name: old, dtype: float64"
      ]
     },
     "execution_count": 2,
     "metadata": {},
     "output_type": "execute_result"
    }
   ],
   "source": [
    "#Series is 1-d array, as a column with a data labels\n",
    "series=pd.Series(data=[1000,100,10,1],index=['a','b','c','d'],dtype=np.float64)# set the series with the index\n",
    "series['a']# call the series value at the position that have name of index is 'a'\n",
    "series[['a','d','c']]# call the list of series value respectively with the index\n",
    "series>10# return the True false, we can treated this as a conditional statement\n",
    "series[series>10]# return the value with the conditional statement of series\n",
    "series**2# use element-wise of series to do some aggregation\n",
    "'a' in series# check the value of index of series that have the name is 'a'\n",
    "#-----------------------------------------------------\n",
    "#Set with the dictionary with the key-value pairs as index-value pair of series\n",
    "dictionary={'ngoc':20,'thach':24,'son':55,'the':48}\n",
    "index=['ngoc','thach','the','HCM']\n",
    "old=pd.Series(dictionary,index=index)# set the dict as a series with the reordered index by use variable 'INDEX'\n",
    "# the series 'old' have the missing value or NaN value( not a number)\n",
    "old.isnull()# check the NaN value in the series\n",
    "isnull=old[old.isnull()]# return the value in series with the condition statement is old.isnull()=True\n",
    "notnull=old[old.notnull()]\n",
    "old1=pd.Series(dictionary)\n",
    "##### Carefull if one of both have NaN value that will become NaN value in new series\n",
    "old + old1# Join 2 series into 1 series.\n",
    "#---------------------------------------------------------\n",
    "#Set the name of index and the series(data labels)\n",
    "old.name='old'# set name of this series 'old'\n",
    "old.index.name='person'# set the name of index is 'person'\n",
    "old"
   ]
  },
  {
   "cell_type": "markdown",
   "metadata": {},
   "source": [
    "## Data Frame"
   ]
  },
  {
   "cell_type": "code",
   "execution_count": 3,
   "metadata": {},
   "outputs": [
    {
     "data": {
      "text/html": [
       "<div>\n",
       "<style scoped>\n",
       "    .dataframe tbody tr th:only-of-type {\n",
       "        vertical-align: middle;\n",
       "    }\n",
       "\n",
       "    .dataframe tbody tr th {\n",
       "        vertical-align: top;\n",
       "    }\n",
       "\n",
       "    .dataframe thead th {\n",
       "        text-align: right;\n",
       "    }\n",
       "</style>\n",
       "<table border=\"1\" class=\"dataframe\">\n",
       "  <thead>\n",
       "    <tr style=\"text-align: right;\">\n",
       "      <th>properties</th>\n",
       "      <th>name</th>\n",
       "      <th>old</th>\n",
       "      <th>year</th>\n",
       "      <th>Jobs</th>\n",
       "      <th>high</th>\n",
       "    </tr>\n",
       "    <tr>\n",
       "      <th>Num-th</th>\n",
       "      <th></th>\n",
       "      <th></th>\n",
       "      <th></th>\n",
       "      <th></th>\n",
       "      <th></th>\n",
       "    </tr>\n",
       "  </thead>\n",
       "  <tbody>\n",
       "    <tr>\n",
       "      <th>one</th>\n",
       "      <td>ngoc</td>\n",
       "      <td>20</td>\n",
       "      <td>1998</td>\n",
       "      <td>Student</td>\n",
       "      <td>178</td>\n",
       "    </tr>\n",
       "    <tr>\n",
       "      <th>two</th>\n",
       "      <td>thach</td>\n",
       "      <td>24</td>\n",
       "      <td>1996</td>\n",
       "      <td>student</td>\n",
       "      <td>176</td>\n",
       "    </tr>\n",
       "    <tr>\n",
       "      <th>three</th>\n",
       "      <td>son</td>\n",
       "      <td>55</td>\n",
       "      <td>1963</td>\n",
       "      <td>worker</td>\n",
       "      <td>175</td>\n",
       "    </tr>\n",
       "    <tr>\n",
       "      <th>four</th>\n",
       "      <td>the</td>\n",
       "      <td>48</td>\n",
       "      <td>1970</td>\n",
       "      <td>accounter</td>\n",
       "      <td>160</td>\n",
       "    </tr>\n",
       "    <tr>\n",
       "      <th>five</th>\n",
       "      <td>HCM</td>\n",
       "      <td>128</td>\n",
       "      <td>1890</td>\n",
       "      <td>None</td>\n",
       "      <td>165</td>\n",
       "    </tr>\n",
       "  </tbody>\n",
       "</table>\n",
       "</div>"
      ],
      "text/plain": [
       "properties   name  old  year       Jobs  high\n",
       "Num-th                                       \n",
       "one          ngoc   20  1998    Student   178\n",
       "two         thach   24  1996    student   176\n",
       "three         son   55  1963     worker   175\n",
       "four          the   48  1970  accounter   160\n",
       "five          HCM  128  1890       None   165"
      ]
     },
     "execution_count": 3,
     "metadata": {},
     "output_type": "execute_result"
    }
   ],
   "source": [
    "#Set dataframe by using dict with key-value as columb-sequenceOfvalue pair\n",
    "data={'name':['ngoc','thach','son','the','HCM'],\n",
    "      'old':[20,24,55,48,'128'],# set the '128' as a string\n",
    "      'Jobs':['Student','student','worker','accounter',None]}# set the jobs of HCM as None\n",
    "data.update({'year':[1998,1996,1963,1970,1890]})# update the key-value pair to take more column of Table\n",
    "frame=pd.DataFrame(data,index=[x for x in range(1,6,1)])# set the dataframe with the dict\n",
    "frame.old.astype(dtype=np.int64)# convert from object( contain string '128') to int64\n",
    "frame.head(3)# use (head,tail) to show the instance at head and tail\n",
    "#Change the sequence of columns and the index\n",
    "sortedFrame=pd.DataFrame(data,index=['one','two','three','four','five'],columns=['name','year','old','Jobs'])\n",
    "sortedFrame['year']# =sortedFrame.year (form use dataframe.year need this column existed)\n",
    "# Access the location of instance\n",
    "sortedFrame.loc['three'] # =sortedFrame.loc[sortedFrame.index[2]]\n",
    "sortedFrame['high']=None# create a new columns having the name called 'high' with every value set as None\n",
    "list_high=[178,176,175,160,165]# create a list of high, treat this as a sequece of value of high\n",
    "sortedFrame[sortedFrame.columns[4]]=list_high# set the value of columns at the 4th position (='high') is list_high\n",
    "# Add a new series with some invalid value for some instance of index\n",
    "degree=pd.Series([True,True,True],index=['one','two','five'])\n",
    "sortedFrame['degree']=degree# add columns that set a true for index of degree\n",
    "sortedFrame['degree']=sortedFrame.name=='ngoc'# set the True for name='ngoc'\n",
    "del sortedFrame['degree']# del the columns degree\n",
    "sortedFrame\n",
    "#Create a dataframe from the nested dict\n",
    "data={'name':{'one':'ngoc','two':'thach','three':'son','four':'the','five':'HCM'},\n",
    "     'year':{'one':1998,'two':1996,'three':1963,'four':1970,'five':1890},\n",
    "     'old':{'one':20,'two':24,'three':55,'four':48,'five':128},\n",
    "     'Jobs':{'one':'Student','two':'student','three':'worker','four':'accounter','five':None},\n",
    "     'high':{'one':178,'two':176,'three':175,'four':160,'five':165}}\n",
    "frame=pd.DataFrame(data=data,columns=['name','old','year','Jobs','high'],index=['one','two','three','four','five'])\n",
    "pd.DataFrame(frame,index=['one','two','four'])\n",
    "frame.columns.name='properties';frame.index.name='Num-th'\n",
    "np.shape(a=frame.values)# show the shape of matrix that contains values of datasets\n",
    "frame"
   ]
  },
  {
   "cell_type": "markdown",
   "metadata": {},
   "source": [
    "## Index Objects"
   ]
  },
  {
   "cell_type": "code",
   "execution_count": 4,
   "metadata": {},
   "outputs": [
    {
     "data": {
      "text/html": [
       "<div>\n",
       "<style scoped>\n",
       "    .dataframe tbody tr th:only-of-type {\n",
       "        vertical-align: middle;\n",
       "    }\n",
       "\n",
       "    .dataframe tbody tr th {\n",
       "        vertical-align: top;\n",
       "    }\n",
       "\n",
       "    .dataframe thead th {\n",
       "        text-align: right;\n",
       "    }\n",
       "</style>\n",
       "<table border=\"1\" class=\"dataframe\">\n",
       "  <thead>\n",
       "    <tr style=\"text-align: right;\">\n",
       "      <th>properties</th>\n",
       "      <th>name</th>\n",
       "      <th>old</th>\n",
       "      <th>year</th>\n",
       "      <th>Jobs</th>\n",
       "      <th>high</th>\n",
       "    </tr>\n",
       "    <tr>\n",
       "      <th>Num-th</th>\n",
       "      <th></th>\n",
       "      <th></th>\n",
       "      <th></th>\n",
       "      <th></th>\n",
       "      <th></th>\n",
       "    </tr>\n",
       "  </thead>\n",
       "  <tbody>\n",
       "    <tr>\n",
       "      <th>one</th>\n",
       "      <td>ngoc</td>\n",
       "      <td>20</td>\n",
       "      <td>1998</td>\n",
       "      <td>Student</td>\n",
       "      <td>178</td>\n",
       "    </tr>\n",
       "    <tr>\n",
       "      <th>two</th>\n",
       "      <td>thach</td>\n",
       "      <td>24</td>\n",
       "      <td>1996</td>\n",
       "      <td>student</td>\n",
       "      <td>176</td>\n",
       "    </tr>\n",
       "    <tr>\n",
       "      <th>three</th>\n",
       "      <td>son</td>\n",
       "      <td>55</td>\n",
       "      <td>1963</td>\n",
       "      <td>worker</td>\n",
       "      <td>175</td>\n",
       "    </tr>\n",
       "    <tr>\n",
       "      <th>four</th>\n",
       "      <td>the</td>\n",
       "      <td>48</td>\n",
       "      <td>1970</td>\n",
       "      <td>accounter</td>\n",
       "      <td>160</td>\n",
       "    </tr>\n",
       "    <tr>\n",
       "      <th>five</th>\n",
       "      <td>HCM</td>\n",
       "      <td>128</td>\n",
       "      <td>1890</td>\n",
       "      <td>None</td>\n",
       "      <td>165</td>\n",
       "    </tr>\n",
       "  </tbody>\n",
       "</table>\n",
       "</div>"
      ],
      "text/plain": [
       "properties   name  old  year       Jobs  high\n",
       "Num-th                                       \n",
       "one          ngoc   20  1998    Student   178\n",
       "two         thach   24  1996    student   176\n",
       "three         son   55  1963     worker   175\n",
       "four          the   48  1970  accounter   160\n",
       "five          HCM  128  1890       None   165"
      ]
     },
     "execution_count": 4,
     "metadata": {},
     "output_type": "execute_result"
    }
   ],
   "source": [
    "# data.index have type ('O'),object\n",
    "frame"
   ]
  },
  {
   "cell_type": "markdown",
   "metadata": {},
   "source": [
    "# 5.2 Essential Functionality"
   ]
  },
  {
   "cell_type": "markdown",
   "metadata": {},
   "source": [
    "## Reindexing"
   ]
  },
  {
   "cell_type": "code",
   "execution_count": 5,
   "metadata": {
    "scrolled": true
   },
   "outputs": [],
   "source": [
    "# use frame.reindex to take the index of old frame and can add more index with new value\n",
    "frame.index=[0,1,2,3,4]\n",
    "frame=frame.reindex(index=[0,1,2,3,4,5,6,7],# each element of index of old frame still stored that value\n",
    "                     fill_value=None)\n",
    "#-------------------------------------------------------\n",
    "#Drop the entries or columns\n",
    "frame=frame.reindex(columns=['name','old','year','Jobs','high','degree'])#add new columns is 'degree'\n",
    "frame=frame.drop(index=[5,6],axis=0)# drop the row from axis=0\n",
    "frame=frame.drop(columns='degree',axis=1)# drop columns from axis=1"
   ]
  },
  {
   "cell_type": "markdown",
   "metadata": {},
   "source": [
    "## Indexing,Selection, and Filtering"
   ]
  },
  {
   "cell_type": "code",
   "execution_count": 6,
   "metadata": {},
   "outputs": [
    {
     "name": "stdout",
     "output_type": "stream",
     "text": [
      "properties   name    old    year       Jobs   high\n",
      "0            ngoc   20.0  1998.0    Student  178.0\n",
      "1           thach   24.0  1996.0    student  176.0\n",
      "2             son   55.0  1963.0     worker  175.0\n",
      "3             the   48.0  1970.0  accounter  160.0\n",
      "4             HCM  128.0  1890.0       None  165.0\n",
      "7             NaN    NaN     NaN        NaN    NaN\n"
     ]
    },
    {
     "data": {
      "text/html": [
       "<div>\n",
       "<style scoped>\n",
       "    .dataframe tbody tr th:only-of-type {\n",
       "        vertical-align: middle;\n",
       "    }\n",
       "\n",
       "    .dataframe tbody tr th {\n",
       "        vertical-align: top;\n",
       "    }\n",
       "\n",
       "    .dataframe thead th {\n",
       "        text-align: right;\n",
       "    }\n",
       "</style>\n",
       "<table border=\"1\" class=\"dataframe\">\n",
       "  <thead>\n",
       "    <tr style=\"text-align: right;\">\n",
       "      <th></th>\n",
       "      <th>a</th>\n",
       "      <th>b</th>\n",
       "      <th>c</th>\n",
       "      <th>d</th>\n",
       "    </tr>\n",
       "  </thead>\n",
       "  <tbody>\n",
       "    <tr>\n",
       "      <th>a</th>\n",
       "      <td>0</td>\n",
       "      <td>1</td>\n",
       "      <td>2</td>\n",
       "      <td>3</td>\n",
       "    </tr>\n",
       "    <tr>\n",
       "      <th>b</th>\n",
       "      <td>4</td>\n",
       "      <td>5</td>\n",
       "      <td>6</td>\n",
       "      <td>7</td>\n",
       "    </tr>\n",
       "    <tr>\n",
       "      <th>c</th>\n",
       "      <td>8</td>\n",
       "      <td>9</td>\n",
       "      <td>10</td>\n",
       "      <td>11</td>\n",
       "    </tr>\n",
       "    <tr>\n",
       "      <th>d</th>\n",
       "      <td>12</td>\n",
       "      <td>13</td>\n",
       "      <td>14</td>\n",
       "      <td>15</td>\n",
       "    </tr>\n",
       "  </tbody>\n",
       "</table>\n",
       "</div>"
      ],
      "text/plain": [
       "    a   b   c   d\n",
       "a   0   1   2   3\n",
       "b   4   5   6   7\n",
       "c   8   9  10  11\n",
       "d  12  13  14  15"
      ]
     },
     "execution_count": 6,
     "metadata": {},
     "output_type": "execute_result"
    }
   ],
   "source": [
    "#Series use like array in Numpy\n",
    "print(frame)\n",
    "frame.name[2:]#pick the series name from 2:end\n",
    "frame['old']<100# series True False for the condition\n",
    "frame[frame.old<100]# show the frame with the condition of frame.old\n",
    "frame[(frame.old<100)|(frame.year>1995)]# query subset(4 results) that have 2 condition is (old<100)OR(year>1900)\n",
    "frame[(frame.old<100)&(frame.year>1995)]# query subset(2 results) that have 2 condition is (old<100)AND(year>1900)\n",
    "frame[(frame.old<100)^(frame.year>1995)]# only one condition True not both\n",
    "#---------------------------------------------\n",
    "#Selection with loc and iloc( integer location)\n",
    "# FORM: frame.loc[row,columns][condition statement]\n",
    "frame.loc[0:7,['Jobs','name','old']][(frame.old<100)&((frame.year>1900)&(frame.high>175))]\n",
    "frame.loc[1:7]# choose the row by label-name\n",
    "#--------------------------------------------\n",
    "#Arithmetic and Data alignment( will )\n",
    "#   When join 2 dataframe,if value of one of 2 df is null that total is null\n",
    "s1=pd.DataFrame(data=np.arange(16).reshape(4,4),\n",
    "               index=list('abcd'),columns=list('abcd'))\n",
    "s2=pd.DataFrame(data=np.arange(9).reshape(3,3),\n",
    "               index=list('abc'),columns=list('abc'))\n",
    "s1+s2# every value of row,columns(d) is null because this isn't exist in (s2)\n",
    "#   with 2 df have no index or no columns, it'l return NaN because no value in common row,columns\n",
    "s3=pd.DataFrame(np.arange(4).reshape(2,2),columns=list('ab'))\n",
    "s4=pd.DataFrame(np.random.randn(2,2),columns=list('cd'))\n",
    "s3+s4#every is NaN\n",
    "#-----------------------------------------------\n",
    "#Arithmetic with fill value\n",
    "frame.loc[4,['high','Jobs']]=np.NaN\n",
    "frame.loc[7,['name']]='Anonymous'\n",
    "#   set value(that is null in one of 2 df) is 0,so that we can plus\n",
    "s2.add(s1,fill_value=0)#More method is add,sub,div,mul,pow\n",
    "#------------------------------------------------------------\n",
    "#Operatoins between DF and Series\n",
    "#BROADCASTING is do the matrix with the scalar array\n",
    "s1-s1.iloc[0]# subtract s1.iloc[0] for each row in s1\n",
    "s1"
   ]
  },
  {
   "cell_type": "markdown",
   "metadata": {},
   "source": [
    "## Function Apllication and Mapping "
   ]
  },
  {
   "cell_type": "code",
   "execution_count": 7,
   "metadata": {},
   "outputs": [
    {
     "data": {
      "text/html": [
       "<div>\n",
       "<style scoped>\n",
       "    .dataframe tbody tr th:only-of-type {\n",
       "        vertical-align: middle;\n",
       "    }\n",
       "\n",
       "    .dataframe tbody tr th {\n",
       "        vertical-align: top;\n",
       "    }\n",
       "\n",
       "    .dataframe thead th {\n",
       "        text-align: right;\n",
       "    }\n",
       "</style>\n",
       "<table border=\"1\" class=\"dataframe\">\n",
       "  <thead>\n",
       "    <tr style=\"text-align: right;\">\n",
       "      <th></th>\n",
       "      <th>a</th>\n",
       "      <th>b</th>\n",
       "      <th>c</th>\n",
       "      <th>d</th>\n",
       "    </tr>\n",
       "  </thead>\n",
       "  <tbody>\n",
       "    <tr>\n",
       "      <th>a</th>\n",
       "      <td>0.0</td>\n",
       "      <td>1.0</td>\n",
       "      <td>2.0</td>\n",
       "      <td>3.0</td>\n",
       "    </tr>\n",
       "    <tr>\n",
       "      <th>b</th>\n",
       "      <td>4.0</td>\n",
       "      <td>5.0</td>\n",
       "      <td>6.0</td>\n",
       "      <td>7.0</td>\n",
       "    </tr>\n",
       "    <tr>\n",
       "      <th>c</th>\n",
       "      <td>8.0</td>\n",
       "      <td>9.0</td>\n",
       "      <td>10.0</td>\n",
       "      <td>11.0</td>\n",
       "    </tr>\n",
       "    <tr>\n",
       "      <th>d</th>\n",
       "      <td>12.0</td>\n",
       "      <td>13.0</td>\n",
       "      <td>14.0</td>\n",
       "      <td>15.0</td>\n",
       "    </tr>\n",
       "  </tbody>\n",
       "</table>\n",
       "</div>"
      ],
      "text/plain": [
       "      a     b     c     d\n",
       "a   0.0   1.0   2.0   3.0\n",
       "b   4.0   5.0   6.0   7.0\n",
       "c   8.0   9.0  10.0  11.0\n",
       "d  12.0  13.0  14.0  15.0"
      ]
     },
     "execution_count": 7,
     "metadata": {},
     "output_type": "execute_result"
    }
   ],
   "source": [
    "#numpy ufuncs also work in pandas ( element-wised)\n",
    "np.multiply(s1,2)\n",
    "#APPLY(function,axis=) to align df\n",
    "s1.apply(lambda x: sum(x),axis=1)# apply function for each axis=1(row)\n",
    "def f(x):# create function with x is element of axis=0 or axis=1\n",
    "    return pd.Series([x.min(),x.max()],index=['min','max'])# form the series to apple each axis\n",
    "s1.apply(f,axis=1)# apple series for each axis=1\n",
    "# Use applymap(f) to apply all element-wised in df\n",
    "s1.applymap(lambda x: '%.1f'% x)"
   ]
  },
  {
   "cell_type": "markdown",
   "metadata": {},
   "source": [
    "## Sorting and Ranking"
   ]
  },
  {
   "cell_type": "code",
   "execution_count": 8,
   "metadata": {},
   "outputs": [
    {
     "data": {
      "text/plain": [
       "False"
      ]
     },
     "execution_count": 8,
     "metadata": {},
     "output_type": "execute_result"
    }
   ],
   "source": [
    "#Sorting with sort_index(asc,axis)\n",
    "s1=pd.DataFrame(np.random.randn(4,4),columns=list('abdc'),dtype=np.float64)\n",
    "s1.sort_index(axis=1,inplace=False,ascending=False)\n",
    "# sort value with axis=0 at columns='a'\n",
    "s1.sort_values(axis=0,by='a',inplace=False)\n",
    "#Ranking with unique value and group value\n",
    "s2=pd.DataFrame(np.array([2,2,3,4,2,2]).reshape(2,3),columns=['a','b','c'])\n",
    "s2.rank(axis=1)# rank by group value is represented as 1.5\n",
    "s2.rank(axis=1,method='first',ascending=True)\n",
    "#Axis indexes with Duplicate labels\n",
    "s2.columns=['a','a','b']# change the columns to not unique\n",
    "s2.columns.is_unique# test this columns is_unique or not"
   ]
  },
  {
   "cell_type": "markdown",
   "metadata": {},
   "source": [
    "# 5.3 Summarizing and Computing Descriptive Statistics"
   ]
  },
  {
   "cell_type": "code",
   "execution_count": 67,
   "metadata": {},
   "outputs": [
    {
     "data": {
      "text/html": [
       "<div>\n",
       "<style scoped>\n",
       "    .dataframe tbody tr th:only-of-type {\n",
       "        vertical-align: middle;\n",
       "    }\n",
       "\n",
       "    .dataframe tbody tr th {\n",
       "        vertical-align: top;\n",
       "    }\n",
       "\n",
       "    .dataframe thead th {\n",
       "        text-align: right;\n",
       "    }\n",
       "</style>\n",
       "<table border=\"1\" class=\"dataframe\">\n",
       "  <thead>\n",
       "    <tr style=\"text-align: right;\">\n",
       "      <th>properties</th>\n",
       "      <th>old</th>\n",
       "      <th>year</th>\n",
       "      <th>high</th>\n",
       "    </tr>\n",
       "    <tr>\n",
       "      <th>properties</th>\n",
       "      <th></th>\n",
       "      <th></th>\n",
       "      <th></th>\n",
       "    </tr>\n",
       "  </thead>\n",
       "  <tbody>\n",
       "    <tr>\n",
       "      <th>old</th>\n",
       "      <td>1891.00</td>\n",
       "      <td>-1906.50</td>\n",
       "      <td>-77.25</td>\n",
       "    </tr>\n",
       "    <tr>\n",
       "      <th>year</th>\n",
       "      <td>-1906.50</td>\n",
       "      <td>1922.80</td>\n",
       "      <td>79.75</td>\n",
       "    </tr>\n",
       "    <tr>\n",
       "      <th>high</th>\n",
       "      <td>-77.25</td>\n",
       "      <td>79.75</td>\n",
       "      <td>68.25</td>\n",
       "    </tr>\n",
       "  </tbody>\n",
       "</table>\n",
       "</div>"
      ],
      "text/plain": [
       "properties      old     year   high\n",
       "properties                         \n",
       "old         1891.00 -1906.50 -77.25\n",
       "year       -1906.50  1922.80  79.75\n",
       "high         -77.25    79.75  68.25"
      ]
     },
     "execution_count": 67,
     "metadata": {},
     "output_type": "execute_result"
    }
   ],
   "source": [
    "s1=pd.DataFrame(np.arange(16).reshape(4,4),columns=list('abdc'))\n",
    "s2=pd.DataFrame(np.arange(9).reshape(3,3),columns=list('abc'))\n",
    "s3=s1+s2\n",
    "s3.sum(axis=1,skipna=True)\n",
    "s3.idxmax(axis=0,skipna=True)# return the position of row,col that is the max value\n",
    "s3.cumsum(skipna=True,axis=0)\n",
    "s3.describe()# describe the descriptive statistic\n",
    "frame.Jobs.describe()# describe the series of df\n",
    "# some method is median,var,std,skew,kurt,cum(sum,min,max,prod),\n",
    "pd.core.common.is_list_like = pd.api.types.is_list_like\n",
    "import pandas_datareader.data as web\n",
    "frame.corr()# return the tabular of numeric columns that have correlation\n",
    "frame.old.corr(frame.year)# take the only one corr between  old and year\n",
    "frame.cov()# covariance"
   ]
  },
  {
   "cell_type": "markdown",
   "metadata": {},
   "source": [
    "### Unique Values,Value count, Membership "
   ]
  },
  {
   "cell_type": "code",
   "execution_count": 122,
   "metadata": {},
   "outputs": [
    {
     "name": "stdout",
     "output_type": "stream",
     "text": [
      "properties name old year Jobs high\n",
      "the           1                   \n",
      "thach         1                   \n",
      "ngoc          1                   \n",
      "HCM           1                   \n",
      "son           1                   \n",
      "Anonymous     1                   \n",
      "128.0             2         1     \n",
      "48.0              1               \n",
      "55.0              1               \n",
      "24.0              1               \n",
      "20.0              1               \n",
      "1890.0                 1          \n",
      "1970.0                 1          \n",
      "1963.0                 1          \n",
      "1996.0                 1          \n",
      "1998.0                 1          \n",
      "accounter                   1     \n",
      "student                     1     \n",
      "Student                     1     \n",
      "worker                      1     \n",
      "160.0                            1\n",
      "175.0                            1\n",
      "176.0                            1\n",
      "178.0                            1\n"
     ]
    },
    {
     "name": "stderr",
     "output_type": "stream",
     "text": [
      "C:\\Users\\Ngoc\\Anaconda3\\lib\\site-packages\\pandas\\core\\indexes\\api.py:107: RuntimeWarning: '<' not supported between instances of 'str' and 'float', sort order is undefined for incomparable objects\n",
      "  result = result.union(other)\n"
     ]
    }
   ],
   "source": [
    "unique_name=frame.name.unique()# take the array of unique value\n",
    "frequencies_name=frame.name.value_counts()# counts the value frequencies\n",
    "pd.value_counts(frame.name.values,sort=True,ascending=True)\n",
    "frame.name.isin(values=['ngoc','thach','HCM'])# set the True false for the list of values\n",
    "frame[frame.name.isin(values=['ngoc','thach','HCM'])]# choose the instance what the name in list of values\n",
    "frame.loc[7,'old']=128\n",
    "frame.loc[7,'Jobs']=128# test value=128 appear in 'old',' Jobs'\n",
    "# each value has counts on each columns\n",
    "result=frame.apply(pd.value_counts).fillna('')# apply value_counts on all value of df, use fillna('') to easier to see\n",
    "print(result)# show each value with frequencies that appear in all value of df\n"
   ]
  },
  {
   "cell_type": "code",
   "execution_count": null,
   "metadata": {},
   "outputs": [],
   "source": []
  }
 ],
 "metadata": {
  "kernelspec": {
   "display_name": "Python 3",
   "language": "python",
   "name": "python3"
  },
  "language_info": {
   "codemirror_mode": {
    "name": "ipython",
    "version": 3
   },
   "file_extension": ".py",
   "mimetype": "text/x-python",
   "name": "python",
   "nbconvert_exporter": "python",
   "pygments_lexer": "ipython3",
   "version": "3.6.5"
  }
 },
 "nbformat": 4,
 "nbformat_minor": 2
}
